{
 "cells": [
  {
   "cell_type": "code",
   "execution_count": 1,
   "id": "c5d546ba",
   "metadata": {},
   "outputs": [
    {
     "name": "stdout",
     "output_type": "stream",
     "text": [
      "content=\"<think>\\nOkay, so I need to figure out the length of the Great Wall of China. I remember hearing that it's really long, but I'm not exactly sure how long. I think it's somewhere in the thousands of miles, but I'm not certain. Let me try to break this down.\\n\\nFirst, I know the Great Wall is a series of fortifications built across several Chinese dynasties. It wasn't built all at once, so maybe that's why the length can vary. I've heard different numbers before, like 13,000 miles or 21,000 kilometers. But I'm not sure which one is accurate.\\n\\nI should consider the sources of this information. Maybe some people measure it differently. For example, if you include all the branches and sections, it might add up to a longer distance. But if you just take the main wall, it might be shorter. I think the Chinese government did a survey a while back, so that might be a reliable source.\\n\\nWait, I think they used advanced technology like GPS and satellites to measure it more accurately. That would make sense because older measurements might have been estimates. So, if the official measurement is around 13,171 miles, that's probably the most accurate number now.\\n\\nBut I also remember hearing that some sections are overlapping or that the wall isn't one continuous structure. It has different parts built in different times, so maybe that's why the total length adds up to more than just a straight line. Each section was built for specific purposes, like protecting certain areas or controlling trade routes.\\n\\nI wonder how they actually measured it. Did they walk along the wall and mark each segment? Or did they use aerial photography? Using satellites would probably give a more precise measurement because they can cover more ground without missing sections.\\n\\nAlso, the wall's condition might affect the measurement. Some parts are well-preserved, while others are ruins or even gone. So, when measuring, do they count only the parts that still exist, or do they include the entire original structure? I think the survey probably included all the existing sections, whether they're in good shape or not.\\n\\nAnother thing to consider is the historical context. The wall was built over centuries, so each dynasty added their own parts. This could mean that the wall isn't just one long structure but a collection of separate walls built at different times. Therefore, the total length is the sum of all these separate walls.\\n\\nI should also think about units. The user asked for the length, and I know that 13,171 miles is the figure I've heard before. Converting that to kilometers, it's about 21,196 km. That seems really long, but considering the wall spans across mountains and plains, it makes sense.\\n\\nI'm trying to remember if there are any other famous walls that are similarly long. I think the Great Wall of China is the longest man-made structure, so it's longer than other walls like Hadrian's Wall or the Berlin Wall. That puts it into perspective.\\n\\nIn summary, the Great Wall of China's length is approximately 13,171 miles or 21,196 kilometers. This measurement was determined by a comprehensive survey that accounted for all the sections, including the branches and overlapping parts. It's important to note that the wall isn't a single, continuous structure but a series of interconnected fortifications built over many centuries.\\n</think>\\n\\nThe Great Wall of China is approximately 13,171 miles (21,196 kilometers) long. This measurement was determined by a comprehensive survey that included all sections, branches, and overlapping parts. The wall is not a single, continuous structure but a series of fortifications built over centuries, contributing to its extensive length.\" additional_kwargs={} response_metadata={'token_usage': {'completion_tokens': 754, 'prompt_tokens': 11, 'total_tokens': 765, 'completion_time': 3.510035614, 'prompt_time': 0.001629596, 'queue_time': 0.21929200399999998, 'total_time': 3.51166521}, 'model_name': 'deepseek-r1-distill-llama-70b', 'system_fingerprint': 'fp_1bbe7845ec', 'finish_reason': 'stop', 'logprobs': None} id='run--88571773-0bbc-438d-9912-f49bf5d03bbc-0' usage_metadata={'input_tokens': 11, 'output_tokens': 754, 'total_tokens': 765}\n"
     ]
    }
   ],
   "source": [
    "from langchain_groq import ChatGroq\n",
    "\n",
    "\n",
    "llm = ChatGroq(\n",
    "    model_name=\"deepseek-r1-distill-llama-70b\",\n",
    "    temperature=0\n",
    ")\n",
    "\n",
    "\n",
    "response=llm.invoke(\"what is length of wall of china?\")\n",
    "\n",
    "print(response)\n"
   ]
  },
  {
   "cell_type": "code",
   "execution_count": 2,
   "id": "aa461ab4",
   "metadata": {},
   "outputs": [],
   "source": [
    "import os\n",
    "from dotenv import load_dotenv\n",
    "\n",
    "load_dotenv()\n",
    "\n",
    "os.environ[\"TAVILY_API_KEY\"]=os.getenv(\"TAVILY_API_KEY\")\n",
    "os.environ[\"OPENWEATHER_API_KEY\"]=os.getenv(\"OPENWEATHER_API_KEY\")"
   ]
  },
  {
   "cell_type": "code",
   "execution_count": 3,
   "id": "46260d56",
   "metadata": {},
   "outputs": [],
   "source": [
    "# add tools for travel assitent\n",
    "\n",
    "\n",
    "from langchain.tools import tool\n",
    "from langchain_community.tools.tavily_search import TavilySearchResults\n",
    "@tool\n",
    "def search_for_attraction(city: str) :\n",
    "    \"\"\"\n",
    "    This method return attracation,restaurant,activities and transportation of city .\n",
    "\n",
    "    Args:\n",
    "        city (str): city.\n",
    "\n",
    "    Returns:\n",
    "        str: return attracation,restaurant,activities and transportation of city\n",
    "    \"\"\"\n",
    "    # Tavily tool to search the web\n",
    "    search = TavilySearchResults()\n",
    "    # Questions to search\n",
    "    queries = {\n",
    "        \"Attractions\": f\"Top tourist attractions in {city}\",\n",
    "        \"Restaurants\": f\"Famous restaurants in {city}\",\n",
    "        \"Activities\": f\"Popular activities to do in {city}\",\n",
    "        \"Transportation\": f\"Transportation options in {city} for tourists\"\n",
    "    }\n",
    "    # Get and print results\n",
    "    results = {}\n",
    "    for category, query in queries.items():\n",
    "        print(f\"\\n🔍 Searching for {category} in {city}...\")\n",
    "        search_result = search.run(query)\n",
    "        results[category] =  \"\\n\".join([entry[\"content\"] for entry in search_result])\n",
    "        \n",
    "    # # Display\n",
    "    # for category, content in results.items():\n",
    "    #     print(f\"\\n📌 {category}:\\n{content}\")\n",
    "    \n",
    "    print(results)\n",
    "    \n",
    "    return results\n",
    "    "
   ]
  },
  {
   "cell_type": "code",
   "execution_count": 4,
   "id": "a981b22c",
   "metadata": {},
   "outputs": [
    {
     "name": "stdout",
     "output_type": "stream",
     "text": [
      "\n",
      "🔍 Searching for Attractions in Singapore...\n",
      "\n",
      "🔍 Searching for Restaurants in Singapore...\n",
      "\n",
      "🔍 Searching for Activities in Singapore...\n",
      "\n",
      "🔍 Searching for Transportation in Singapore...\n",
      "{'Attractions': '*   [(Top)](https://en.wikipedia.org/wiki/List_of_tourist_attractions_in_Singapore#)\\n*   [1 Beaches and bays](https://en.wikipedia.org/wiki/List_of_tourist_attractions_in_Singapore#Beaches_and_bays)\\n    \\n*   [2 Cultural centres](https://en.wikipedia.org/wiki/List_of_tourist_attractions_in_Singapore#Cultural_centres)\\n    \\n*   [3 Educational centres](https://en.wikipedia.org/wiki/List_of_tourist_attractions_in_Singapore#Educational_centres) [...] 1.  **[^](https://en.wikipedia.org/wiki/List_of_tourist_attractions_in_Singapore#cite_ref-1 \"Jump up\")** [Royal Albatross Sunset Sail](https://www.tallship.com.sg/events/sunset-sail-city-lights/) [...] *   [Jurong Reptile Park](https://en.wikipedia.org/wiki/Jurong_Reptile_Park \"Jurong Reptile Park\")\\n*   [Malay Village](https://en.wikipedia.org/wiki/Malay_Village \"Malay Village\")\\n*   [Mandai Orchid Garden](https://en.wikipedia.org/wiki/Mandai_Orchid_Garden \"Mandai Orchid Garden\")\\n*   [New World Amusement Park](https://en.wikipedia.org/wiki/New_World_Amusement_Park \"New World Amusement Park\")\\n*   [Punggol Zoo](https://en.wikipedia.org/wiki/Punggol_Zoo \"Punggol Zoo\")\\nSentosa is a 1,236-acre island resort off the southern coast of Singapore that\\'s home to major tourist attractions like [Universal Studios Singapore](https://www.cntraveler.com/activities/universal-studios-singapore) and the S.E.A. Aquarium. Singaporeans and international travelers also flock here to hang out on the beaches, zip line at Mega Adventure Park, shop at the massive luxury galleria, and more.\\nResorts World Sentosa is a hub of theme parks, jam-packed with popular attractions like Universal Studios Singapore, Adventure Cove, Dolphin Island, S.E.A. Aquarium, and more. See 100,000 aquatic animals in an open ocean environment at S.E.A aquarium, or hop aboard countless rides complete with cutting-edge technology for an adrenaline rush at Universal Studios. [...] ![](https://cdn-imgix.headout.com/collection-card-image/3715/image/6cb54b463f1de8c9561f63292148e955-3715-%20Card%20Image%20.jpg?auto=format&w=486&h=385.2&q=90&fit=crop&crop=faces)\\n\\nExperience Mandai\\'s wildlife adventure in Singapore. Explore Singapore Zoo, Night Safari, River Wonders, and Jurong Bird Park.\\n\\n![](https://cdn-imgix.headout.com/media/images/eb55b931b607c22627a75f03408aadff-522-singapore-singapore-night-safari-02.jpg?auto=format&w=486&h=385.2&q=90&fit=crop&crop=faces)', 'Restaurants': \"As you explore this gastronomic paradise, you'll discover iconic restaurants like JAAN By Kirk Westaway, where modern British cuisine meets breathtaking views, and Burnt Ends, known for its mouthwatering Australian-style BBQ. Don't miss out on hidden gems like Candlenut, the world's first Michelin-starred Peranakan restaurant, or the contemporary Indian flavors at Thevar. With so many incredible options, Singapore invites you to embark on a delicious journey that will leave your taste buds [...] [![Image 37: Get the Android app from Google Play](blob:http://localhost/b8c9efb6f51bf1d28701a7c410cfb1da) Dim sum](https://wanderlog.com/list/geoCategory/1518147/best-spots-for-dim-sum-in-singapore)\\n\\n[![Image 38: Get the Android app from Google Play](blob:http://localhost/b8c9efb6f51bf1d28701a7c410cfb1da) Paella](https://wanderlog.com/list/geoCategory/1850868/best-places-for-paella-in-singapore) [...] [![Image 29: Get the Android app from Google Play](blob:http://localhost/b8c9efb6f51bf1d28701a7c410cfb1da) Steak](https://wanderlog.com/list/geoCategory/1503120/best-places-for-steak-in-singapore)\\n\\n[![Image 30: Get the Android app from Google Play](blob:http://localhost/b8c9efb6f51bf1d28701a7c410cfb1da) Shawarma](https://wanderlog.com/list/geoCategory/1840380/best-shawarma-spots-in-singapore)\\nThere are a number of great food centers in Singapore, but none as famous as this one. Opened in 1971, Newton Food Centre has been occasionally criticized for being overpriced, yet the sheer variety of street food here still makes it a worthy destination for food-loving tourists. Among the many highly recommended stalls to explore, Hup Kee Fried Oyster Omelette and Soon Wah Fishball Kway Teow Mee are sure to delight. [...] There are a number of great food centers in Singapore, but none as famous as this one. Opened in 1971, Newton Food Centre has been occasionally criticized for being overpriced, yet the sheer variety of street food here still makes it a worthy destination for food-loving tourists. Among the many highly recommended stalls to explore, Hup Kee Fried Oyster Omelette and Soon Wah Fishball Kway Teow Mee are sure to delight. [...] *   [Email](mailto:?subject=The%2038%20Essential%20Restaurants%20in%20Singapore&body=From%20hawker%20stalls%20serving%20minced%20pork%20noodles%20to%20Michelin-starred%20tasting%20menus%2C%20Peranakan%20fine%20dining%20to%20iconic%20chilli%20crabs%2C%20the%20food-loving%20Little%20Red%20Dot%20is%20full%20of%20surprises%0A%0Ahttps%3A%2F%2Fwww.eater.com%2Fmaps%2Fbest-restaurants-singapore)\\nOyster Bar & Chop House, which has been a C-suite crowd favorite for years, and it serves some of the same impeccably executed American and European classics, like Luke’s Lobster Sliders and Luke’s Famous Shrimp Cocktail. There are fresh additions, too—of note are the Pasta “Juliette” (capellini with rock shrimp and zucchini in a moreish house-made pesto), and the indulgent Lobster Omelette with charred avocado and caviar beurre blanc. [...] This is a great spot for family gatherings or dinners with large groups of friends. Located in a four-story shophouse along the bustling Chinatown thoroughfare, Spring Court, Singapore's oldest family-owned restaurant, sports quintessentially Chinese decor: ornate wooden chairs, chinoiserie wainscoting, and red hanging lanterns. Spring Court started out as a Cantonese restaurant, and its signature specialities from its early days are still here: deep-fried boneless chicken spread with prawn [...] after time for Hua Yu Wee's chili crab, crispy fried duck, and feng sha (flattened) roast chicken served with a potent chili-garlic dip: all decades-old dishes that the restaurant continually updates to suit the personality of Singapore's ever-changing dining scene. Over the years, its chefs have incorporated modern touches; for instance, adding textural and crispy puffed rice to a traditional plate of fried rice. The regulars who have grown up eating here appreciate these small, but\\nSome of the most popular restaurants in Singapore that provide takeout are:  \\n\\n*   [Entre-nous Creperie](https://www.tripadvisor.com/Restaurant_Review-g294265-d1193730-Reviews-Entre_nous_Creperie-Singapore.html)\\n*   [Bar-Roque Grill](https://www.tripadvisor.com/Restaurant_Review-g294265-d4504877-Reviews-Bar_Roque_Grill-Singapore.html)\\n*   [Allora Ristorante & Bar](https://www.tripadvisor.com/Restaurant_Review-g294265-d27140394-Reviews-Allora_Ristorante_Bar-Singapore.html)\\n\\n* * * [...] *   [The Mind Cafe - Mega Outlet](https://www.tripadvisor.com/Restaurant_Review-g294265-d2089644-Reviews-The_Mind_Cafe_Mega_Outlet-Singapore.html)\\n*   [Entre-nous Creperie](https://www.tripadvisor.com/Restaurant_Review-g294265-d1193730-Reviews-Entre_nous_Creperie-Singapore.html)\\n*   [Loulou - French Cuisine & Wine Bar](https://www.tripadvisor.com/Restaurant_Review-g294265-d24167082-Reviews-Loulou_French_Cuisine_Wine_Bar-Singapore.html)\\n\\n* * * [...] *   [Takagi Ramen- BLK 492 JURONG WEST](https://www.tripadvisor.com/Restaurant_Review-g294265-d17742258-Reviews-Takagi_Ramen_BLK_492_JURONG_WEST-Singapore.html)\\n*   [Takagi Ramen @ Bedok](https://www.tripadvisor.com/Restaurant_Review-g294265-d27972773-Reviews-Takagi_Ramen_Bedok-Singapore.html)\\n*   [Takagi Ramen -WOODS SQUARE](https://www.tripadvisor.com/Restaurant_Review-g294265-d26854129-Reviews-Takagi_Ramen_WOODS_SQUARE-Singapore.html)\\n\\n* * *\\n\\nSingapore\\nGoogle “Where To Eat in Singapore” and you’ll most likely find Hawker Chan in the list. It’s definitely one of the popular places to eat in Singapore.\\n\\n_Why?_ This hawker stall became popular worldwide for being the world’s first hawker stall to be awarded one Michelin star and the world’s cheapest Michelin-star meal!\\n\\nWith its claim to fame, Liao Fan Hawker Chan has been on travelling foodie’s check-list when visiting Singapore.\", 'Activities': \"Singapore](https://www.tripadvisor.com/Attractions-g294265-Activities-c61-t190-Singapore.html)[Kayaking & Canoeing in Singapore](https://www.tripadvisor.com/Attractions-g294265-Activities-c61-t191-Singapore.html)[Parasailing & Paragliding in Singapore](https://www.tripadvisor.com/Attractions-g294265-Activities-c61-t192-Singapore.html)[River Rafting & Tubing in Singapore](https://www.tripadvisor.com/Attractions-g294265-Activities-c61-t193-Singapore.html)[Scuba & Snorkelling in [...] Singapore](https://www.tripadvisor.com/Attractions-g294265-Activities-c61-t198-Singapore.html)[Waterskiing & Jetskiing in Singapore](https://www.tripadvisor.com/Attractions-g294265-Activities-c61-t199-Singapore.html)[Duck Tours in Singapore](https://www.tripadvisor.com/Attractions-g294265-Activities-c61-t200-Singapore.html)[Boat Tours & Water Sports in Singapore](https://www.tripadvisor.com/Attractions-g294265-Activities-c55-Singapore.html) [...] Singapore](https://www.tripadvisor.com/Attractions-g294265-Activities-c61-t188-Singapore.html)[Gondola Cruises in Singapore](https://www.tripadvisor.com/Attractions-g294265-Activities-c61-t189-Singapore.html)[Speed Boats Tours in Singapore](https://www.tripadvisor.com/Attractions-g294265-Activities-c61-t190-Singapore.html)[Kayaking & Canoeing in Singapore](https://www.tripadvisor.com/Attractions-g294265-Activities-c61-t191-Singapore.html)[Parasailing & Paragliding in\\ncertain public areas. For thrill-seekers, the Canopy Jump, where you leap off a 65-foot-high platform, is the thing to do (be prepared to queue for your turn). Another must-see is the Rock Cascade, a rocky outcrop flanked by a stream, which is home to two magnificent Malayan tigers that you can observe safely from elevated walkways. [...] Sentosa is a 1,236-acre island resort off the southern coast of Singapore that's home to major tourist attractions like [Universal Studios Singapore](https://www.cntraveler.com/activities/universal-studios-singapore) and the S.E.A. Aquarium. Singaporeans and international travelers also flock here to hang out on the beaches, zip line at Mega Adventure Park, shop at the massive luxury galleria, and more. [...] restaurants, bars, and clubs. This is best for those who are looking for a bit of a buzz, whether it's by trying one of Singapore's most popular hot pot restaurants, open till the wee hours ([Hai Di Lao](https://www.haidilao.com/sg/)), checking out its most famous club ([Zouk](https://zoukclub.com/)), or having a jam session ([Swee Lee](https://experience.sweelee.com/venues/singapore/swee-lee-clarke-quay)).\\nIf you're looking for adventure, spend a day at Sentosa Island and indulge in various outdoor activities or head to Universal Studios Singapore for some heart-pumping fun. You can even visit animals at the Singapore Zoo or the Night Safari, the world's first nocturnal zoo.\\n\\nSee more\\n\\nAbout Singapore\\n--------------- [...] ecosystem, making it a popular spot for marine enthusiasts and nature photographers. Nearby attractions worth exploring include Lazarus Island and Kusu Island, both of which offer stunning landscapes and cultural landmarks. St John's Island is definitely worth a visit for those seeking a peaceful and idyllic getaway. [...] exploring include Marina Bay Sands, where you can enjoy panoramic views of the city from the SkyPark, and the Merlion Park, where you can take a photo with the iconic Merlion statue.\", 'Transportation': \"Singapore’s public transportation is efficient, making traveling from point A to point B a snap. Essentially, that means that tourists who wish to shop along Orchard Road in the morning, visit the Singapore Botanic Gardens in the afternoon, and fly out of Changi Airport in the evening can ride a bus or MRT and get to each place on time, with undeniably little friction or delay.\\n\\nWithout further ado, let’s get started.\\n\\n### Getting Around Singapore by MRT & Bus [...] Singapore’s MRT system is known as Mass Rapid Transit. This is equivalent to a train/subway/metro in your country. In comparison to bike and taxi, MRT and bus will be used by the majority of locals and tourists to get to their destinations, unless you have a larger budget to rent a private hire car (PHC) or a taxi. [...] Singapore’s MRT system is known as Mass Rapid Transit. This is equivalent to a train/subway/metro in your country. In comparison to bike and taxi, MRT and bus will be used by the majority of locals and tourists to get to their destinations, unless you have a larger budget to rent a private hire car (PHC) or a taxi.\\nSingapore's transportation network offers access to every corner of the island, either by bus, MRT underground or taxi. A useful tip for travelers is to avoid\\nGiven Singapore’s small size and good public transport network, there is no real need for tourists to rent a car to [explore the city](https://www.lonelyplanet.com/articles/best-road-trips-in-singapore). Most of the main sights are in the downtown area and well connected by MRT or bus, and for more out-of-the-way spots, calling a taxi or rideshare is much easier and economical than renting a car where you have to factor in the costs of fuel, road tolls and expensive parking. [...] There are some private shuttle bus services that may be more convenient than public buses. Notable ones for tourists include the [free shuttle bus lines](https://www.sentosa.com.sg/en/getting-around/) that go around [Sentosa Island](https://www.lonelyplanet.com/singapore/singapore-city/sentosa-island), the weekend [Kranji Farms Shuttle](https://www.wtstravel.com.sg/latest-service-kranji-farms-shuttle/) to explore Kranji Countryside, and the [Mandai Khatib [...] Advertisement\\n\\nFor tourists, you can consider the [Singapore Tourist Pass](https://thesingaporetouristpass.com.sg/type-of-passes/) which allows for unlimited rides on the public bus and MRT for 1–3 days.\\n\\n![Image 20: A woman with a backpack approaches a bicycle](https://lp-cms-production.imgix.net/2023-09/GettyImages-1411223802.jpg?auto=format,compress&q=72&fit=crop)\\nYou can now take in the sights and sounds of Singapore in the comfort of the island’s extensive train system and public bus network. At wallet-friendly prices, you do not have to worry about having insufficient funds for your transport needs with the Singapore Tourist Pass.\\n\\n* Things to note:\\nWalk Cycle Ride SG is our vision for an inclusive city with a transport system that enables everyone to take part in our lively city. Whatever your preferred mode of commute, travelling in Singapore is convenient and efficient, thanks to an extensive and integrated network of roads, trains, buses and taxis.\"}\n"
     ]
    },
    {
     "data": {
      "text/plain": [
       "{'Attractions': '*   [(Top)](https://en.wikipedia.org/wiki/List_of_tourist_attractions_in_Singapore#)\\n*   [1 Beaches and bays](https://en.wikipedia.org/wiki/List_of_tourist_attractions_in_Singapore#Beaches_and_bays)\\n    \\n*   [2 Cultural centres](https://en.wikipedia.org/wiki/List_of_tourist_attractions_in_Singapore#Cultural_centres)\\n    \\n*   [3 Educational centres](https://en.wikipedia.org/wiki/List_of_tourist_attractions_in_Singapore#Educational_centres) [...] 1.  **[^](https://en.wikipedia.org/wiki/List_of_tourist_attractions_in_Singapore#cite_ref-1 \"Jump up\")** [Royal Albatross Sunset Sail](https://www.tallship.com.sg/events/sunset-sail-city-lights/) [...] *   [Jurong Reptile Park](https://en.wikipedia.org/wiki/Jurong_Reptile_Park \"Jurong Reptile Park\")\\n*   [Malay Village](https://en.wikipedia.org/wiki/Malay_Village \"Malay Village\")\\n*   [Mandai Orchid Garden](https://en.wikipedia.org/wiki/Mandai_Orchid_Garden \"Mandai Orchid Garden\")\\n*   [New World Amusement Park](https://en.wikipedia.org/wiki/New_World_Amusement_Park \"New World Amusement Park\")\\n*   [Punggol Zoo](https://en.wikipedia.org/wiki/Punggol_Zoo \"Punggol Zoo\")\\nSentosa is a 1,236-acre island resort off the southern coast of Singapore that\\'s home to major tourist attractions like [Universal Studios Singapore](https://www.cntraveler.com/activities/universal-studios-singapore) and the S.E.A. Aquarium. Singaporeans and international travelers also flock here to hang out on the beaches, zip line at Mega Adventure Park, shop at the massive luxury galleria, and more.\\nResorts World Sentosa is a hub of theme parks, jam-packed with popular attractions like Universal Studios Singapore, Adventure Cove, Dolphin Island, S.E.A. Aquarium, and more. See 100,000 aquatic animals in an open ocean environment at S.E.A aquarium, or hop aboard countless rides complete with cutting-edge technology for an adrenaline rush at Universal Studios. [...] ![](https://cdn-imgix.headout.com/collection-card-image/3715/image/6cb54b463f1de8c9561f63292148e955-3715-%20Card%20Image%20.jpg?auto=format&w=486&h=385.2&q=90&fit=crop&crop=faces)\\n\\nExperience Mandai\\'s wildlife adventure in Singapore. Explore Singapore Zoo, Night Safari, River Wonders, and Jurong Bird Park.\\n\\n![](https://cdn-imgix.headout.com/media/images/eb55b931b607c22627a75f03408aadff-522-singapore-singapore-night-safari-02.jpg?auto=format&w=486&h=385.2&q=90&fit=crop&crop=faces)',\n",
       " 'Restaurants': \"As you explore this gastronomic paradise, you'll discover iconic restaurants like JAAN By Kirk Westaway, where modern British cuisine meets breathtaking views, and Burnt Ends, known for its mouthwatering Australian-style BBQ. Don't miss out on hidden gems like Candlenut, the world's first Michelin-starred Peranakan restaurant, or the contemporary Indian flavors at Thevar. With so many incredible options, Singapore invites you to embark on a delicious journey that will leave your taste buds [...] [![Image 37: Get the Android app from Google Play](blob:http://localhost/b8c9efb6f51bf1d28701a7c410cfb1da) Dim sum](https://wanderlog.com/list/geoCategory/1518147/best-spots-for-dim-sum-in-singapore)\\n\\n[![Image 38: Get the Android app from Google Play](blob:http://localhost/b8c9efb6f51bf1d28701a7c410cfb1da) Paella](https://wanderlog.com/list/geoCategory/1850868/best-places-for-paella-in-singapore) [...] [![Image 29: Get the Android app from Google Play](blob:http://localhost/b8c9efb6f51bf1d28701a7c410cfb1da) Steak](https://wanderlog.com/list/geoCategory/1503120/best-places-for-steak-in-singapore)\\n\\n[![Image 30: Get the Android app from Google Play](blob:http://localhost/b8c9efb6f51bf1d28701a7c410cfb1da) Shawarma](https://wanderlog.com/list/geoCategory/1840380/best-shawarma-spots-in-singapore)\\nThere are a number of great food centers in Singapore, but none as famous as this one. Opened in 1971, Newton Food Centre has been occasionally criticized for being overpriced, yet the sheer variety of street food here still makes it a worthy destination for food-loving tourists. Among the many highly recommended stalls to explore, Hup Kee Fried Oyster Omelette and Soon Wah Fishball Kway Teow Mee are sure to delight. [...] There are a number of great food centers in Singapore, but none as famous as this one. Opened in 1971, Newton Food Centre has been occasionally criticized for being overpriced, yet the sheer variety of street food here still makes it a worthy destination for food-loving tourists. Among the many highly recommended stalls to explore, Hup Kee Fried Oyster Omelette and Soon Wah Fishball Kway Teow Mee are sure to delight. [...] *   [Email](mailto:?subject=The%2038%20Essential%20Restaurants%20in%20Singapore&body=From%20hawker%20stalls%20serving%20minced%20pork%20noodles%20to%20Michelin-starred%20tasting%20menus%2C%20Peranakan%20fine%20dining%20to%20iconic%20chilli%20crabs%2C%20the%20food-loving%20Little%20Red%20Dot%20is%20full%20of%20surprises%0A%0Ahttps%3A%2F%2Fwww.eater.com%2Fmaps%2Fbest-restaurants-singapore)\\nOyster Bar & Chop House, which has been a C-suite crowd favorite for years, and it serves some of the same impeccably executed American and European classics, like Luke’s Lobster Sliders and Luke’s Famous Shrimp Cocktail. There are fresh additions, too—of note are the Pasta “Juliette” (capellini with rock shrimp and zucchini in a moreish house-made pesto), and the indulgent Lobster Omelette with charred avocado and caviar beurre blanc. [...] This is a great spot for family gatherings or dinners with large groups of friends. Located in a four-story shophouse along the bustling Chinatown thoroughfare, Spring Court, Singapore's oldest family-owned restaurant, sports quintessentially Chinese decor: ornate wooden chairs, chinoiserie wainscoting, and red hanging lanterns. Spring Court started out as a Cantonese restaurant, and its signature specialities from its early days are still here: deep-fried boneless chicken spread with prawn [...] after time for Hua Yu Wee's chili crab, crispy fried duck, and feng sha (flattened) roast chicken served with a potent chili-garlic dip: all decades-old dishes that the restaurant continually updates to suit the personality of Singapore's ever-changing dining scene. Over the years, its chefs have incorporated modern touches; for instance, adding textural and crispy puffed rice to a traditional plate of fried rice. The regulars who have grown up eating here appreciate these small, but\\nSome of the most popular restaurants in Singapore that provide takeout are:  \\n\\n*   [Entre-nous Creperie](https://www.tripadvisor.com/Restaurant_Review-g294265-d1193730-Reviews-Entre_nous_Creperie-Singapore.html)\\n*   [Bar-Roque Grill](https://www.tripadvisor.com/Restaurant_Review-g294265-d4504877-Reviews-Bar_Roque_Grill-Singapore.html)\\n*   [Allora Ristorante & Bar](https://www.tripadvisor.com/Restaurant_Review-g294265-d27140394-Reviews-Allora_Ristorante_Bar-Singapore.html)\\n\\n* * * [...] *   [The Mind Cafe - Mega Outlet](https://www.tripadvisor.com/Restaurant_Review-g294265-d2089644-Reviews-The_Mind_Cafe_Mega_Outlet-Singapore.html)\\n*   [Entre-nous Creperie](https://www.tripadvisor.com/Restaurant_Review-g294265-d1193730-Reviews-Entre_nous_Creperie-Singapore.html)\\n*   [Loulou - French Cuisine & Wine Bar](https://www.tripadvisor.com/Restaurant_Review-g294265-d24167082-Reviews-Loulou_French_Cuisine_Wine_Bar-Singapore.html)\\n\\n* * * [...] *   [Takagi Ramen- BLK 492 JURONG WEST](https://www.tripadvisor.com/Restaurant_Review-g294265-d17742258-Reviews-Takagi_Ramen_BLK_492_JURONG_WEST-Singapore.html)\\n*   [Takagi Ramen @ Bedok](https://www.tripadvisor.com/Restaurant_Review-g294265-d27972773-Reviews-Takagi_Ramen_Bedok-Singapore.html)\\n*   [Takagi Ramen -WOODS SQUARE](https://www.tripadvisor.com/Restaurant_Review-g294265-d26854129-Reviews-Takagi_Ramen_WOODS_SQUARE-Singapore.html)\\n\\n* * *\\n\\nSingapore\\nGoogle “Where To Eat in Singapore” and you’ll most likely find Hawker Chan in the list. It’s definitely one of the popular places to eat in Singapore.\\n\\n_Why?_ This hawker stall became popular worldwide for being the world’s first hawker stall to be awarded one Michelin star and the world’s cheapest Michelin-star meal!\\n\\nWith its claim to fame, Liao Fan Hawker Chan has been on travelling foodie’s check-list when visiting Singapore.\",\n",
       " 'Activities': \"Singapore](https://www.tripadvisor.com/Attractions-g294265-Activities-c61-t190-Singapore.html)[Kayaking & Canoeing in Singapore](https://www.tripadvisor.com/Attractions-g294265-Activities-c61-t191-Singapore.html)[Parasailing & Paragliding in Singapore](https://www.tripadvisor.com/Attractions-g294265-Activities-c61-t192-Singapore.html)[River Rafting & Tubing in Singapore](https://www.tripadvisor.com/Attractions-g294265-Activities-c61-t193-Singapore.html)[Scuba & Snorkelling in [...] Singapore](https://www.tripadvisor.com/Attractions-g294265-Activities-c61-t198-Singapore.html)[Waterskiing & Jetskiing in Singapore](https://www.tripadvisor.com/Attractions-g294265-Activities-c61-t199-Singapore.html)[Duck Tours in Singapore](https://www.tripadvisor.com/Attractions-g294265-Activities-c61-t200-Singapore.html)[Boat Tours & Water Sports in Singapore](https://www.tripadvisor.com/Attractions-g294265-Activities-c55-Singapore.html) [...] Singapore](https://www.tripadvisor.com/Attractions-g294265-Activities-c61-t188-Singapore.html)[Gondola Cruises in Singapore](https://www.tripadvisor.com/Attractions-g294265-Activities-c61-t189-Singapore.html)[Speed Boats Tours in Singapore](https://www.tripadvisor.com/Attractions-g294265-Activities-c61-t190-Singapore.html)[Kayaking & Canoeing in Singapore](https://www.tripadvisor.com/Attractions-g294265-Activities-c61-t191-Singapore.html)[Parasailing & Paragliding in\\ncertain public areas. For thrill-seekers, the Canopy Jump, where you leap off a 65-foot-high platform, is the thing to do (be prepared to queue for your turn). Another must-see is the Rock Cascade, a rocky outcrop flanked by a stream, which is home to two magnificent Malayan tigers that you can observe safely from elevated walkways. [...] Sentosa is a 1,236-acre island resort off the southern coast of Singapore that's home to major tourist attractions like [Universal Studios Singapore](https://www.cntraveler.com/activities/universal-studios-singapore) and the S.E.A. Aquarium. Singaporeans and international travelers also flock here to hang out on the beaches, zip line at Mega Adventure Park, shop at the massive luxury galleria, and more. [...] restaurants, bars, and clubs. This is best for those who are looking for a bit of a buzz, whether it's by trying one of Singapore's most popular hot pot restaurants, open till the wee hours ([Hai Di Lao](https://www.haidilao.com/sg/)), checking out its most famous club ([Zouk](https://zoukclub.com/)), or having a jam session ([Swee Lee](https://experience.sweelee.com/venues/singapore/swee-lee-clarke-quay)).\\nIf you're looking for adventure, spend a day at Sentosa Island and indulge in various outdoor activities or head to Universal Studios Singapore for some heart-pumping fun. You can even visit animals at the Singapore Zoo or the Night Safari, the world's first nocturnal zoo.\\n\\nSee more\\n\\nAbout Singapore\\n--------------- [...] ecosystem, making it a popular spot for marine enthusiasts and nature photographers. Nearby attractions worth exploring include Lazarus Island and Kusu Island, both of which offer stunning landscapes and cultural landmarks. St John's Island is definitely worth a visit for those seeking a peaceful and idyllic getaway. [...] exploring include Marina Bay Sands, where you can enjoy panoramic views of the city from the SkyPark, and the Merlion Park, where you can take a photo with the iconic Merlion statue.\",\n",
       " 'Transportation': \"Singapore’s public transportation is efficient, making traveling from point A to point B a snap. Essentially, that means that tourists who wish to shop along Orchard Road in the morning, visit the Singapore Botanic Gardens in the afternoon, and fly out of Changi Airport in the evening can ride a bus or MRT and get to each place on time, with undeniably little friction or delay.\\n\\nWithout further ado, let’s get started.\\n\\n### Getting Around Singapore by MRT & Bus [...] Singapore’s MRT system is known as Mass Rapid Transit. This is equivalent to a train/subway/metro in your country. In comparison to bike and taxi, MRT and bus will be used by the majority of locals and tourists to get to their destinations, unless you have a larger budget to rent a private hire car (PHC) or a taxi. [...] Singapore’s MRT system is known as Mass Rapid Transit. This is equivalent to a train/subway/metro in your country. In comparison to bike and taxi, MRT and bus will be used by the majority of locals and tourists to get to their destinations, unless you have a larger budget to rent a private hire car (PHC) or a taxi.\\nSingapore's transportation network offers access to every corner of the island, either by bus, MRT underground or taxi. A useful tip for travelers is to avoid\\nGiven Singapore’s small size and good public transport network, there is no real need for tourists to rent a car to [explore the city](https://www.lonelyplanet.com/articles/best-road-trips-in-singapore). Most of the main sights are in the downtown area and well connected by MRT or bus, and for more out-of-the-way spots, calling a taxi or rideshare is much easier and economical than renting a car where you have to factor in the costs of fuel, road tolls and expensive parking. [...] There are some private shuttle bus services that may be more convenient than public buses. Notable ones for tourists include the [free shuttle bus lines](https://www.sentosa.com.sg/en/getting-around/) that go around [Sentosa Island](https://www.lonelyplanet.com/singapore/singapore-city/sentosa-island), the weekend [Kranji Farms Shuttle](https://www.wtstravel.com.sg/latest-service-kranji-farms-shuttle/) to explore Kranji Countryside, and the [Mandai Khatib [...] Advertisement\\n\\nFor tourists, you can consider the [Singapore Tourist Pass](https://thesingaporetouristpass.com.sg/type-of-passes/) which allows for unlimited rides on the public bus and MRT for 1–3 days.\\n\\n![Image 20: A woman with a backpack approaches a bicycle](https://lp-cms-production.imgix.net/2023-09/GettyImages-1411223802.jpg?auto=format,compress&q=72&fit=crop)\\nYou can now take in the sights and sounds of Singapore in the comfort of the island’s extensive train system and public bus network. At wallet-friendly prices, you do not have to worry about having insufficient funds for your transport needs with the Singapore Tourist Pass.\\n\\n* Things to note:\\nWalk Cycle Ride SG is our vision for an inclusive city with a transport system that enables everyone to take part in our lively city. Whatever your preferred mode of commute, travelling in Singapore is convenient and efficient, thanks to an extensive and integrated network of roads, trains, buses and taxis.\"}"
      ]
     },
     "execution_count": 4,
     "metadata": {},
     "output_type": "execute_result"
    }
   ],
   "source": [
    "search_for_attraction.run(\"Singapore\")"
   ]
  },
  {
   "cell_type": "code",
   "execution_count": 5,
   "id": "8dab11d9",
   "metadata": {},
   "outputs": [],
   "source": [
    "import requests\n",
    "\n",
    "# Tool 1: Get current weather\n",
    "@tool\n",
    "def get_current_weather(location: str) -> str:\n",
    "    \"\"\"Fetches current weather for a given location using OpenWeatherMap API.\"\"\"\n",
    "    OPENWEATHER_API_KEY = os.environ[\"OPENWEATHER_API_KEY\"]\n",
    "    url = f\"http://api.openweathermap.org/data/2.5/weather?q={location}&appid={OPENWEATHER_API_KEY}&units=metric\"\n",
    "    response = requests.get(url)\n",
    "    if response.status_code != 200:\n",
    "        return f\"Error getting weather for {location}. Check location name.\"\n",
    "    data = response.json()\n",
    "    weather = data['weather'][0]['description']\n",
    "    temp = data['main']['temp']\n",
    "    return f\"The current weather in {location} is {weather} with temperature {temp}°C.\"\n",
    "\n",
    "# Tool 2: Get weather forecast\n",
    "@tool\n",
    "def get_weather_forecast(location: str) -> str:\n",
    "    \"\"\"Fetches 3-day weather forecast for a given location using OpenWeatherMap API.\"\"\"\n",
    "    OPENWEATHER_API_KEY = os.environ[\"OPENWEATHER_API_KEY\"]\n",
    "    url = f\"http://api.openweathermap.org/data/2.5/forecast?q={location}&appid={OPENWEATHER_API_KEY}&units=metric\"\n",
    "    response = requests.get(url)\n",
    "    if response.status_code != 200:\n",
    "        return f\"Error getting forecast for {location}. Check location name.\"\n",
    "    data = response.json()\n",
    "    forecast_text = f\"3-Day Forecast for {location}:\\n\"\n",
    "    # Get first 3 days (each day has multiple 3-hour forecasts)\n",
    "    seen_days = set()\n",
    "    for item in data['list']:\n",
    "        date = item['dt_txt'].split(\" \")[0]\n",
    "        if date not in seen_days:\n",
    "            weather = item['weather'][0]['description']\n",
    "            temp = item['main']['temp']\n",
    "            forecast_text += f\"{date}: {weather}, {temp}°C\\n\"\n",
    "            seen_days.add(date)\n",
    "        if len(seen_days) >= 3:\n",
    "            break\n",
    "    return forecast_text.strip()"
   ]
  },
  {
   "cell_type": "code",
   "execution_count": 6,
   "id": "2e05dea2",
   "metadata": {},
   "outputs": [
    {
     "data": {
      "text/plain": [
       "'The current weather in Delhi is haze with temperature 31.05°C.'"
      ]
     },
     "execution_count": 6,
     "metadata": {},
     "output_type": "execute_result"
    }
   ],
   "source": [
    "\n",
    "get_current_weather.invoke(\"Delhi\")"
   ]
  },
  {
   "cell_type": "code",
   "execution_count": 7,
   "id": "68aa8f9d",
   "metadata": {},
   "outputs": [
    {
     "data": {
      "text/plain": [
       "'3-Day Forecast for Delhi:\\n2025-06-16: light rain, 30.74°C\\n2025-06-17: light rain, 24.17°C\\n2025-06-18: light rain, 35°C'"
      ]
     },
     "execution_count": 7,
     "metadata": {},
     "output_type": "execute_result"
    }
   ],
   "source": [
    "get_weather_forecast.invoke(\"Delhi\")"
   ]
  },
  {
   "cell_type": "code",
   "execution_count": 8,
   "id": "659eec07",
   "metadata": {},
   "outputs": [],
   "source": [
    "SERPAPI_KEY = os.getenv(\"SERPAPI_API_KEY\")\n",
    "from langchain.tools import tool\n",
    "\n",
    "@tool\n",
    "def search_hotels(city: str) -> list:\n",
    "    \"\"\"Search hotels in the given city using SerpAPI (Travel Results).\"\"\"\n",
    "    url = \"https://serpapi.com/search.json\"\n",
    "    params = {\n",
    "        \"engine\": \"google\",\n",
    "        \"q\": f\"hotels in {city}\",\n",
    "        \"type\": \"hotels\",\n",
    "        \"api_key\": SERPAPI_KEY\n",
    "    }\n",
    "\n",
    "    response = requests.get(url, params=params)\n",
    "\n",
    "    results = response.json()\n",
    "    print(results)\n",
    "    hotels = []\n",
    "    for item in results.get(\"shopping_results\", []):\n",
    "        hotels.append({\n",
    "            \"name\": item.get(\"title\"),\n",
    "            \"price\": item.get(\"price\"),\n",
    "            \"rating\": item.get(\"rating\"),\n",
    "            \"source\": item.get(\"source\"),\n",
    "            \"link\": item.get(\"link\")\n",
    "        })\n",
    "    return hotels\n",
    "\n",
    "\n",
    "@tool\n",
    "def estimate_average_cost(hotels: list) -> float:\n",
    "    \"\"\"Estimate the average hotel cost from a list of hotels using extracted_price if available.\"\"\"\n",
    "    prices = []\n",
    "\n",
    "    for h in hotels:\n",
    "        if \"price\" in h and isinstance(h[\"price\"], (int, float)):\n",
    "            prices.append(h[\"price\"])\n",
    "        elif \"price\" in h and isinstance(h[\"price\"], str) and \"$\" in h[\"price\"]:\n",
    "            try:\n",
    "                p = float(h[\"price\"].replace(\"$\", \"\").replace(\",\", \"\"))\n",
    "                prices.append(p)\n",
    "            except ValueError:\n",
    "                continue\n",
    "\n",
    "    if not prices:\n",
    "        return 0.0\n",
    "\n",
    "    return round(sum(prices) / len(prices), 2)\n",
    "\n",
    "\n",
    "@tool\n",
    "def get_budget_range(avg_cost: float) -> str:\n",
    "    \"\"\"Classify the average cost into budget range.\"\"\"\n",
    "    if avg_cost < 50:\n",
    "        return \"Low Budget\"\n",
    "    elif avg_cost < 150:\n",
    "        return \"Medium Budget\"\n",
    "    else:\n",
    "        return \"High Budget\""
   ]
  },
  {
   "cell_type": "code",
   "execution_count": 10,
   "id": "a7680e0a",
   "metadata": {},
   "outputs": [
    {
     "name": "stdout",
     "output_type": "stream",
     "text": [
      "{'search_metadata': {'id': '684fe14cf7ae8de206998887', 'status': 'Success', 'json_endpoint': 'https://serpapi.com/searches/cf658df2661d2a26/684fe14cf7ae8de206998887.json', 'created_at': '2025-06-16 09:18:04 UTC', 'processed_at': '2025-06-16 09:18:04 UTC', 'google_url': 'https://www.google.com/search?q=hotels+in+hyderabad&oq=hotels+in+hyderabad&sourceid=chrome&ie=UTF-8', 'raw_html_file': 'https://serpapi.com/searches/cf658df2661d2a26/684fe14cf7ae8de206998887.html', 'total_time_taken': 10.51}, 'search_parameters': {'engine': 'google', 'q': 'hotels in hyderabad', 'google_domain': 'google.com', 'device': 'desktop'}, 'search_information': {'query_displayed': 'hotels in hyderabad', 'total_results': 164000000, 'time_taken_displayed': 0.65, 'organic_results_state': 'Results for exact spelling'}, 'shopping_results': [{'position': 1, 'block_position': 'top', 'title': 'ibis Hyderabad HITEC City', 'price': '$56', 'extracted_price': 56, 'link': 'https://www.google.com/aclk?sa=l&ai=DChcSEwi6it-AzvWNAxXJAtQBHR5xCGcYABAMGgJvYQ&co=1&gclid=EAIaIQobChMIuorfgM71jQMVyQLUAR0ecQhnEAQYASABEgKZwPD_BwE&category=acrcp_v1_48&sig=AOD64_0zVsgtvsw9NmkHQu1wmfEXT5d1Ow&adurl=', 'source': 'Expedia.com', 'rating': 4.3, 'reviews': 17000, 'reviews_original': '17K', 'thumbnail': 'https://serpapi.com/searches/684fe14cf7ae8de206998887/images/de808f506f37d9bff480c3fce3344088d68820f44d982d945bf187d174de6644.jpeg'}, {'position': 2, 'block_position': 'top', 'title': 'Taj Krishna, Hyderabad', 'price': '$115', 'extracted_price': 115, 'link': 'https://www.google.com/aclk?sa=l&ai=DChcSEwi6it-AzvWNAxXJAtQBHR5xCGcYABAQGgJvYQ&co=1&gclid=EAIaIQobChMIuorfgM71jQMVyQLUAR0ecQhnEAQYAiABEgJqj_D_BwE&category=acrcp_v1_48&sig=AOD64_1qyWXKe-0ZeItNqGU8zDmSEuVkHA&adurl=', 'source': 'Booking.com', 'rating': 4.5, 'reviews': 18000, 'reviews_original': '18K', 'thumbnail': 'https://serpapi.com/searches/684fe14cf7ae8de206998887/images/de808f506f37d9bff480c3fce3344088a9cc75cf303a218789d644bf3fbb4bf8.jpeg'}, {'position': 3, 'block_position': 'top', 'title': 'Park Hyatt Hyderabad', 'price': '$146', 'extracted_price': 146, 'link': 'https://www.google.com/aclk?sa=l&ai=DChcSEwi6it-AzvWNAxXJAtQBHR5xCGcYABAkGgJvYQ&co=1&gclid=EAIaIQobChMIuorfgM71jQMVyQLUAR0ecQhnEAQYAyABEgK9WvD_BwE&category=acrcp_v1_48&sig=AOD64_3XWXYPixohCeqXkTroJREtYUqP0w&adurl=', 'source': 'KAYAK.com', 'rating': 4.5, 'reviews': 17000, 'reviews_original': '17K', 'thumbnail': 'https://serpapi.com/searches/684fe14cf7ae8de206998887/images/de808f506f37d9bff480c3fce3344088d818931ffb77394005baf0bfd1e8977d.jpeg'}, {'position': 4, 'block_position': 'top', 'title': 'Hotel Daspalla Hyderabad', 'price': '$57', 'extracted_price': 57, 'link': 'https://www.google.com/aclk?sa=l&ai=DChcSEwi6it-AzvWNAxXJAtQBHR5xCGcYABApGgJvYQ&co=1&gclid=EAIaIQobChMIuorfgM71jQMVyQLUAR0ecQhnEAQYBCABEgIa3PD_BwE&category=acrcp_v1_48&sig=AOD64_01YSaRpztQfejpAyuCHSfWkzOdoQ&adurl=', 'source': 'Hotels.com', 'rating': 4.2, 'reviews': 18000, 'reviews_original': '18K', 'thumbnail': 'https://serpapi.com/searches/684fe14cf7ae8de206998887/images/de808f506f37d9bff480c3fce334408810c242747829fc8fe0be74a8954d85d4.jpeg'}, {'position': 5, 'block_position': 'top', 'title': 'The Manohar, Hyderabad', 'price': '$34', 'extracted_price': 34, 'link': 'https://www.google.com/aclk?sa=l&ai=DChcSEwi6it-AzvWNAxXJAtQBHR5xCGcYABAoGgJvYQ&co=1&gclid=EAIaIQobChMIuorfgM71jQMVyQLUAR0ecQhnEAQYBSABEgIYcfD_BwE&category=acrcp_v1_48&sig=AOD64_2aSV5h2P4uJNm2tnhJ7Ztnd-FfoA&adurl=', 'source': 'Hotelscombined.com', 'rating': 3.5, 'reviews': 8600, 'reviews_original': '8.6K', 'thumbnail': 'https://serpapi.com/searches/684fe14cf7ae8de206998887/images/de808f506f37d9bff480c3fce33440881c0aac976f2ace9b7568fb0fe8c5401b.jpeg'}, {'position': 6, 'block_position': 'top', 'title': 'Avasa', 'price': '$89', 'extracted_price': 89, 'link': 'https://www.google.com/aclk?sa=l&ai=DChcSEwi6it-AzvWNAxXJAtQBHR5xCGcYABAfGgJvYQ&co=1&gclid=EAIaIQobChMIuorfgM71jQMVyQLUAR0ecQhnEAQYBiABEgLoS_D_BwE&category=acrcp_v1_48&sig=AOD64_06RwIle-s5cfeZiujyh0P_Pbzy9g&adurl=', 'source': 'trivago.com', 'rating': 4.4, 'reviews': 15000, 'reviews_original': '15K', 'thumbnail': 'https://lh5.googleusercontent.com/proxy/6cY33mkLkvClX2YMp5Rya2MPIUMrHU6GrAxw7k--ypqQZ9LOGWl50hRdoc5twbI0-7k1XefpRXtTarrLxIA--O1_-XhmNJvdSGn--UXUDUFYEcMpbzvlZHuyf8AjNY9lV0tj-KTC0YQmQL6xwsL04d0hWyxZiw=w124-h64-n'}, {'position': 7, 'block_position': 'top', 'title': 'Marriott Executive Apartments Hyderabad', 'price': '$116', 'extracted_price': 116, 'link': 'https://www.google.com/aclk?sa=l&ai=DChcSEwi6it-AzvWNAxXJAtQBHR5xCGcYABA0GgJvYQ&co=1&gclid=EAIaIQobChMIuorfgM71jQMVyQLUAR0ecQhnEAQYByABEgI0RPD_BwE&category=acrcp_v1_48&sig=AOD64_0XR4yP3XPHDY3WVZgQNrgzwjWt_g&adurl=', 'source': 'Travelocity.com', 'rating': 4.5, 'reviews': 1400, 'reviews_original': '1.4K', 'thumbnail': 'https://lh4.googleusercontent.com/proxy/fiL-ocFgllga1UIgJcCsG84yw41Ko3ed9una1xsk8ydH-TPVgzkpaI9Wwq5jl77-RApxnTAA13FOl7fDmDWSoMnDD_fFn_pYiPcDub-LA8l_RPYyYbO8xZaSD0ZpxumZCM4oUw4-eLX2x42a1-Vd8h7-FH8d4x4=w124-h64-n'}, {'position': 8, 'block_position': 'top', 'title': 'Taj Mahal Hotel', 'price': '$39', 'extracted_price': 39, 'link': 'https://www.google.com/aclk?sa=l&ai=DChcSEwi6it-AzvWNAxXJAtQBHR5xCGcYABAdGgJvYQ&co=1&gclid=EAIaIQobChMIuorfgM71jQMVyQLUAR0ecQhnEAQYCCABEgL86PD_BwE&category=acrcp_v1_48&sig=AOD64_2oWmffmO8HdLjHfS2MnRNTJnpG8A&adurl=', 'source': 'Travelocity.com', 'rating': 4.2, 'reviews': 19000, 'reviews_original': '19K', 'thumbnail': 'https://lh3.googleusercontent.com/proxy/TyZ4NL9bXon4LIn7nD9jxXiG_AfXbyMCy4mHZZIKzbLW5yv6WimCW7pm1Tack46kRCpRkObUanoDlA6Y5a32LiQev4w-PdhTQr6K8LuAJHV5duUymBIOsIpQqgscp0KHY0cvzRipK7ElJrGw1KoB9Zi3CeHFxw=w124-h64-n'}, {'position': 9, 'block_position': 'top', 'title': 'Clarks Inn Suites Hyderabad, Near Shamshabad Airport', 'price': '$52', 'extracted_price': 52, 'link': 'https://www.google.com/aclk?sa=l&ai=DChcSEwi6it-AzvWNAxXJAtQBHR5xCGcYABASGgJvYQ&co=1&gclid=EAIaIQobChMIuorfgM71jQMVyQLUAR0ecQhnEAQYCSABEgJClfD_BwE&category=acrcp_v1_48&sig=AOD64_1t4j5dRWaqLd_HOiLlJ2aAVZZDzQ&adurl=', 'source': 'Travelocity.com', 'rating': 4.6, 'reviews': 242, 'reviews_original': '242', 'thumbnail': 'https://lh4.googleusercontent.com/proxy/8szJ3TPDTzb8JjBmipZQUqubS-P2aVfZs7jy1B1bvlNGBg6B2IXxBqu7Fi0VFvuei1_aFtxEFOKDj1Xo4k9uYd5o1RpW8Ex8XboqAKHa4Zxda_awqKIkaWDpWKA6OkeW-LAwV81RgBVim4DaBPANW6_Oq-BK_Xk=w124-h64-n'}, {'position': 10, 'block_position': 'top', 'title': 'Minerva Grand Hotel - Secunderabad', 'price': '$47', 'extracted_price': 47, 'link': 'https://www.google.com/aclk?sa=l&ai=DChcSEwi6it-AzvWNAxXJAtQBHR5xCGcYABAOGgJvYQ&co=1&gclid=EAIaIQobChMIuorfgM71jQMVyQLUAR0ecQhnEAQYCiABEgJTyfD_BwE&category=acrcp_v1_48&sig=AOD64_1Lv45CZJ0OCG-NDYASQSb2tdWmkQ&adurl=', 'source': 'Travelocity.com', 'rating': 4.1, 'reviews': 7600, 'reviews_original': '7.6K', 'thumbnail': 'https://lh5.googleusercontent.com/proxy/ESWDFM-bz-UzWQCHbT4DMMc1LFeZZeBfI8ewWjRed4ozOgdPxHWBFyDUdj6CF3rb9aHXF9fqggCK4GOQ_Ov5-CF70hHjAtX_urwEswzhVgdygmRrMMh2u34kpDtgiqLNr_CQb0Gh5E2v_iRqcnTTPrlRwq7rduI=w124-h64-n'}, {'position': 11, 'block_position': 'top', 'title': 'Lemon Tree Hotel, Banjara Hills, Hyderabad', 'price': '$88', 'extracted_price': 88, 'link': 'https://www.google.com/aclk?sa=l&ai=DChcSEwi6it-AzvWNAxXJAtQBHR5xCGcYABAzGgJvYQ&co=1&gclid=EAIaIQobChMIuorfgM71jQMVyQLUAR0ecQhnEAQYCyABEgLHuPD_BwE&category=acrcp_v1_48&sig=AOD64_1JYDgJlmdrIpKOhy9AaZJIe_mrbQ&adurl=', 'source': 'Travelocity.com', 'rating': 4.1, 'reviews': 3400, 'reviews_original': '3.4K', 'thumbnail': 'https://lh6.googleusercontent.com/proxy/ujalmQx3xiTpmyrySLGvxOuoQCcv1XnkqdCZtmoRMKU1bDHLDznYUKLu8VRsgL_7WPNMUEFzaeGEq9g3cGvrb11mNsciWrZs4SMglhM9HdFuKP5I-nqQQddPGbix7gT8yQHnz_Q5LMbZcG814JWA4RTuehFtRQ=w124-h64-n'}, {'position': 12, 'block_position': 'top', 'title': 'Hampshire Plaza Hotel', 'price': '$55', 'extracted_price': 55, 'link': 'https://www.google.com/aclk?sa=l&ai=DChcSEwi6it-AzvWNAxXJAtQBHR5xCGcYABAmGgJvYQ&co=1&gclid=EAIaIQobChMIuorfgM71jQMVyQLUAR0ecQhnEAQYDCABEgIBLPD_BwE&category=acrcp_v1_48&sig=AOD64_0m-n5yHv33KDiC5lExB_Y6S54VeA&adurl=', 'source': 'Travelocity.com', 'rating': 4.0, 'reviews': 58000, 'reviews_original': '58K', 'thumbnail': 'https://lh4.googleusercontent.com/proxy/wVs44wOWxgT-K6nXaANcyPIs73XmT6YNrPYzAOFMR3J2-Kkbd4xdD0WVgCU8RPjVhCFtKgguK3V_HDG6D_ckTt8hWi1vBUR7xaJ_jXqnecm_OSsEfNH84tJyTQgW7f5qjwbrNBF5y-1mbQ8uQUm4osw3TlYrf2Y=w124-h64-n'}, {'position': 13, 'block_position': 'top', 'title': 'Hotel Park Continental', 'price': '$35', 'extracted_price': 35, 'link': 'https://www.google.com/aclk?sa=l&ai=DChcSEwi6it-AzvWNAxXJAtQBHR5xCGcYABAjGgJvYQ&co=1&gclid=EAIaIQobChMIuorfgM71jQMVyQLUAR0ecQhnEAQYDSABEgILJfD_BwE&category=acrcp_v1_48&sig=AOD64_1azzKdSuZf8aLofrCMBKsFsofWSw&adurl=', 'source': 'Travelocity.com', 'rating': 3.2, 'reviews': 629, 'reviews_original': '629', 'thumbnail': 'https://lh5.googleusercontent.com/proxy/2ed0-3FAGqyks-nyweDKABm4iStc5hM_mICZlfelFFMuh_AKnDm3oMtNKZqr8bY5CCja8fWtuvZuvG5jNTjc7bX4wsRRUWp1hywcryL9zBs00wrvFX9HMWWPVsk-2DmWzrWacF87JIwFWpMUVHHs8_5tShlvsQ=w124-h64-n'}, {'position': 14, 'block_position': 'top', 'title': 'Hotel Signature Airport Zone Shamshabad, Hyderabad', 'price': '$53', 'extracted_price': 53, 'link': 'https://www.google.com/aclk?sa=l&ai=DChcSEwi6it-AzvWNAxXJAtQBHR5xCGcYABA7GgJvYQ&co=1&gclid=EAIaIQobChMIuorfgM71jQMVyQLUAR0ecQhnEAQYDiABEgJ63vD_BwE&category=acrcp_v1_48&sig=AOD64_3mSN0JflykNopGfgZQ6t_GWwCWaw&adurl=', 'source': 'Travelocity.com', 'rating': 3.6, 'reviews': 1200, 'reviews_original': '1.2K', 'thumbnail': 'https://lh4.googleusercontent.com/proxy/0BcXomd05nNENDhqD9OdKR-XZeWG1VXevDBHajJvuoUulKzxjGxwAJg6ocTpMsQJMbLqmhb7xdm0Ol7j4NPaz3PO3YgbSZKYfXtZ9sr4buAWdv9hYGnPn4n0l0MFsedP04KqhPTJEjjeR2OGm2XdD4D_mL-qXg=w124-h64-n'}, {'position': 15, 'block_position': 'top', 'title': 'Hotel Hyderabad Grand', 'price': '$48', 'extracted_price': 48, 'link': 'https://www.google.com/aclk?sa=l&ai=DChcSEwi6it-AzvWNAxXJAtQBHR5xCGcYABA4GgJvYQ&co=1&gclid=EAIaIQobChMIuorfgM71jQMVyQLUAR0ecQhnEAQYDyABEgJXpPD_BwE&category=acrcp_v1_48&sig=AOD64_1mCSDn_WBOcbtZwrKX6RXk7wit9Q&adurl=', 'source': 'Travelocity.com', 'rating': 4.2, 'reviews': 6200, 'reviews_original': '6.2K', 'thumbnail': 'https://lh5.googleusercontent.com/proxy/1vxKJWAkogyIUlwj7LKq5cn2WI08IVheWGR5V0LXqZThaDygBbOR-AZ7fC_Y3IfwLXyqPyUmLhskpULZYGD1QyTWI5SoFFoFr5v2u9-7sCn1sxTxMSeNSN9BxXABbkEmWDA3-E6Syc59hc3J-HAzsQ0LEwxaepI=w124-h64-n'}, {'position': 16, 'block_position': 'top', 'title': 'FabHotel Dream Connect', 'price': '$16', 'extracted_price': 16, 'link': 'https://www.google.com/aclk?sa=l&ai=DChcSEwi6it-AzvWNAxXJAtQBHR5xCGcYABAiGgJvYQ&co=1&gclid=EAIaIQobChMIuorfgM71jQMVyQLUAR0ecQhnEAQYECABEgKV2vD_BwE&category=acrcp_v1_48&sig=AOD64_1Rxq54C77RyG8_YDhT7EpTKKvAfw&adurl=', 'source': 'Travelocity.com', 'rating': 4.6, 'reviews': 92, 'reviews_original': '92', 'thumbnail': 'https://lh5.googleusercontent.com/proxy/9jnrp2df9snnLzwSckel4G190j3v0XgbKQMEN4mkUxaIYIOijJe_epnVOfcKHCgsjaRFvtF5t-_po-HqPC-9uBZ4kbOZOyjseqB_FCQPBtPmUdFTW7M5GvR72VZRSYRhw6Wz96qQy024kt67tNJspHd0sIvorA=w124-h64-n'}, {'position': 17, 'block_position': 'top', 'title': 'Radisson Blu Plaza Hotel Hyderabad Banjara Hills', 'price': '$101', 'extracted_price': 101, 'link': 'https://www.google.com/aclk?sa=l&ai=DChcSEwi6it-AzvWNAxXJAtQBHR5xCGcYABAUGgJvYQ&co=1&gclid=EAIaIQobChMIuorfgM71jQMVyQLUAR0ecQhnEAQYESABEgL4EvD_BwE&category=acrcp_v1_48&sig=AOD64_0SlhL8wDpjz4Jg4gSuNaP6sHfDQQ&adurl=', 'source': 'Expedia.com', 'rating': 4.5, 'reviews': 20000, 'reviews_original': '20K', 'thumbnail': 'https://lh3.googleusercontent.com/proxy/Q-qh-1PWXkVy1J39xiM27dt4z2qfTQ46YFLKtTcuIRmjxbUjCdQ3dGtyZ8Q3YhIyWC6LwSrx3dh-DDuW91NZW97NVYhdWkpRrIlLg4g6MqYsUHG0gBvWs3sTXtm5ttFGHbPfwDj1AkFRbnZ0sDYBjwhzFXWmeQ=w124-h64-n'}, {'position': 18, 'block_position': 'top', 'title': 'Novotel Hyderabad Convention Centre', 'price': '$89', 'extracted_price': 89, 'link': 'https://www.google.com/aclk?sa=l&ai=DChcSEwi6it-AzvWNAxXJAtQBHR5xCGcYABAXGgJvYQ&co=1&gclid=EAIaIQobChMIuorfgM71jQMVyQLUAR0ecQhnEAQYEiABEgI69_D_BwE&category=acrcp_v1_48&sig=AOD64_0EsYu0ku2bdcMmplVU4fsWd0Dm8A&adurl=', 'source': 'Expedia.com', 'rating': 4.6, 'reviews': 26000, 'reviews_original': '26K', 'thumbnail': 'https://lh6.googleusercontent.com/proxy/ts_Z5elltXvIhZRhpz-76MMT_U20LA04H6v072bs9JwHQhAd5OVrMl2-PL7T3GNiAz7oB1C5nymAI-PNfaHStzsBbu0WsSipbig0ZiFm8poYFPDFfU-LZNy0rLiEAN_MsqrN2El1zAnT1WBgf13wl2rmmMD05dU=w124-h64-n'}, {'position': 19, 'block_position': 'top', 'title': 'Treebo Navya The Park', 'price': '$21', 'extracted_price': 21, 'link': 'https://www.google.com/aclk?sa=l&ai=DChcSEwi6it-AzvWNAxXJAtQBHR5xCGcYABAeGgJvYQ&co=1&gclid=EAIaIQobChMIuorfgM71jQMVyQLUAR0ecQhnEAQYEyABEgJ9-PD_BwE&category=acrcp_v1_48&sig=AOD64_0zA-sUFrKgQLokxFIl42TtggjOQQ&adurl=', 'source': 'Travelocity.com', 'rating': 4.2, 'reviews': 101, 'reviews_original': '101', 'thumbnail': 'https://lh5.googleusercontent.com/proxy/SFyKg8UBaljf58AsdN08KIfKjZRrSet_MQ3ApOS3BgE2FP4ebP6nmb1qv4dtp5aqdugNME3TkwLFQvOZZH1GZ8YkI1T6WU5GwNY0dzB4qbFjz44DBvgeYgCfmIsG2PSWIYKrFyFcQHYTLU5b64Qj144xHx7Q8Cg=w124-h64-n'}, {'position': 20, 'block_position': 'top', 'title': 'Bloom Hotel - HITEC City', 'price': '$55', 'extracted_price': 55, 'link': 'https://www.google.com/aclk?sa=l&ai=DChcSEwi6it-AzvWNAxXJAtQBHR5xCGcYABAnGgJvYQ&co=1&gclid=EAIaIQobChMIuorfgM71jQMVyQLUAR0ecQhnEAQYFCABEgL3KPD_BwE&category=acrcp_v1_48&sig=AOD64_0GVVk56wH4Kw-MkLduiexJ_yBhgQ&adurl=', 'source': 'Travelocity.com', 'rating': 4.4, 'reviews': 3500, 'reviews_original': '3.5K', 'thumbnail': 'https://lh3.googleusercontent.com/proxy/-Nj8VVyF0iuA1DpqY1zbfUyEW4UlJKW12pwoKWCQb27husUWcmX7l_FrLoKRZInX5nEtMO_47fxfX9HVKpoYSVE9nLFLACB_AH0t_rMRyihf7L22o9z0Wt40wl8MEzd2HPXSrIe8F5Z2Rzn0AoqIYICXBGbrtQ=w124-h64-n'}, {'position': 21, 'block_position': 'top', 'title': 'Mercure Hyderabad KCP', 'price': '$64', 'extracted_price': 64, 'link': 'https://www.google.com/aclk?sa=l&ai=DChcSEwi6it-AzvWNAxXJAtQBHR5xCGcYABALGgJvYQ&co=1&gclid=EAIaIQobChMIuorfgM71jQMVyQLUAR0ecQhnEAQYFSABEgIdaPD_BwE&category=acrcp_v1_48&sig=AOD64_2KEaiHP0vIoPYaktm4UNqRl6geWw&adurl=', 'source': 'Expedia.com', 'rating': 4.5, 'reviews': 13000, 'reviews_original': '13K', 'thumbnail': 'https://lh4.googleusercontent.com/proxy/M2IzODg1-bbBwjYGi2XxXYxtoIu_ePnYlEo-VMjPAPqv1Dp6V81r_Vo3AN3ayTrTbYggC9nCbOqQKY1DgIC0yjhr4GAysnIovDGxgL3MyF9S6-yV3bJRnGKjabqMsABIZX9Wci7n21TjPmXH_q5kdRGI01zLGhs=w124-h64-n'}, {'position': 22, 'block_position': 'top', 'title': 'Deccan Serai Hotel, HITEC CITY, HYDERABAD', 'price': '$75', 'extracted_price': 75, 'link': 'https://www.google.com/aclk?sa=l&ai=DChcSEwi6it-AzvWNAxXJAtQBHR5xCGcYABA2GgJvYQ&co=1&gclid=EAIaIQobChMIuorfgM71jQMVyQLUAR0ecQhnEAQYFiABEgKZMPD_BwE&category=acrcp_v1_48&sig=AOD64_2d_j76zmDT8jeijn3T1ASlFCCWOA&adurl=', 'source': 'Expedia.com', 'rating': 4.4, 'reviews': 35000, 'reviews_original': '35K', 'thumbnail': 'https://lh6.googleusercontent.com/proxy/1jFzPsrnT78uaPvdjEYKM2ZuaDfd9cX5AOLd3DBs-UYGYDaPasxyT6-X_Jr6L-BmzgfacqIVSywjjqZDZXVLoySml2cFfGoCRRtg3lfEXNXRwDlnX7-zTf3eV4jnD_Nw5-DzvFzloucLZTAIi4iqgRWCmnlu6w=w124-h64-n'}, {'position': 23, 'block_position': 'top', 'title': 'Holiday Inn Express Hyderabad Banjara Hills, an IHG Hotel', 'price': '$50', 'extracted_price': 50, 'link': 'https://www.google.com/aclk?sa=l&ai=DChcSEwi6it-AzvWNAxXJAtQBHR5xCGcYABA3GgJvYQ&co=1&gclid=EAIaIQobChMIuorfgM71jQMVyQLUAR0ecQhnEAQYFyABEgJaR_D_BwE&category=acrcp_v1_48&sig=AOD64_38s-mb3N2LoI3E6Iai5aT62oYMww&adurl=', 'source': 'Booking.com', 'rating': 3.6, 'reviews': 3200, 'reviews_original': '3.2K', 'thumbnail': 'https://lh3.googleusercontent.com/proxy/GiunIt7D5vlN-0qNVxQmupyHMu39K7apg1HRapgz8GZ-Ap3C3uBzlvPVSwZPrGBWYuoKUIPI8N6s5rkesna6Aw0mwHQ7v0E8Qo7Y46YUIooXRDgxwAh0RIVD24hBkXZrch-dBj-ZDrKO8aDZUF1sWD1F8J6SjA=w124-h64-n'}, {'position': 24, 'block_position': 'top', 'title': 'Novotel Hyderabad Airport', 'price': '$116', 'extracted_price': 116, 'link': 'https://www.google.com/aclk?sa=l&ai=DChcSEwi6it-AzvWNAxXJAtQBHR5xCGcYABAJGgJvYQ&co=1&gclid=EAIaIQobChMIuorfgM71jQMVyQLUAR0ecQhnEAQYGCABEgIH__D_BwE&category=acrcp_v1_48&sig=AOD64_0HGnpHWrZjN9RziiQYHamRFMbnaA&adurl=', 'source': 'Expedia.com', 'rating': 4.7, 'reviews': 22000, 'reviews_original': '22K', 'thumbnail': 'https://lh5.googleusercontent.com/proxy/bUB7tgGdPPI43D3WQx-HQB04y4apeARHxfkjKDPsldikj9VftgMpx01PGE0OMwAvrJVwANMSTTOliLcK8hwswNlgoBdgJYjun-PxSFWctRs9PYnQQ_JcovqwFbMYxHke8_anSa5jbvRMz_8YXA3aB0wQQo2Jeg=w124-h64-n'}, {'position': 25, 'block_position': 'top', 'title': 'Sheraton Hyderabad Hotel', 'price': '$134', 'extracted_price': 134, 'link': 'https://www.google.com/aclk?sa=l&ai=DChcSEwi6it-AzvWNAxXJAtQBHR5xCGcYABA5GgJvYQ&co=1&gclid=EAIaIQobChMIuorfgM71jQMVyQLUAR0ecQhnEAQYGSABEgKnpPD_BwE&category=acrcp_v1_48&sig=AOD64_2lqe4nGcXURdFxnsbpylcmTwGwbQ&adurl=', 'source': 'Expedia.com', 'rating': 4.3, 'reviews': 15000, 'reviews_original': '15K', 'thumbnail': 'https://lh3.googleusercontent.com/proxy/FcG98UILJ-tNCAwBeesbTvjPf42OMTZNtkL85jI4dVP8Qw-ASKo3JgE8y9xDEpHpEPpmlGKsVPeSOVMg0Ek6-Kl35X4GYkKE8Q2a89e4_cYV8WaXeTZ7H2qiU-TSHHSGntR-g4QkaJK0w9GpGg0aGUq41TIacQ=w124-h64-n'}, {'position': 26, 'block_position': 'top', 'title': \"FabHotel VK's\", 'price': '$15', 'extracted_price': 15, 'link': 'https://www.google.com/aclk?sa=l&ai=DChcSEwi6it-AzvWNAxXJAtQBHR5xCGcYABAIGgJvYQ&co=1&gclid=EAIaIQobChMIuorfgM71jQMVyQLUAR0ecQhnEAQYGiABEgI5dvD_BwE&category=acrcp_v1_48&sig=AOD64_1yaj-ZTj1mZQowfn63CBABt3RF4A&adurl=', 'source': 'Expedia.com', 'rating': 4.0, 'reviews': 62, 'reviews_original': '62', 'thumbnail': 'https://lh5.googleusercontent.com/proxy/LIQEwh1b1YpN_2cP2EZ_loHwO4tICMVMbP78l3gnSrWq8YXmVEHdI_oKf4eRajtbNN5MI1BWOsqvUUZbi-K-T13jfW2Ql4fpohXSykJ04DOA-ZGhwYVj0y6DgbuaSAbW8kwFNyXqMl79NrI_KkQnN6KrGiwpeAk=w124-h64-n'}, {'position': 27, 'block_position': 'top', 'title': 'Oakwood Residence Kapil Hyderabad', 'price': '$64', 'extracted_price': 64, 'link': 'https://www.google.com/aclk?sa=l&ai=DChcSEwi6it-AzvWNAxXJAtQBHR5xCGcYABA6GgJvYQ&co=1&gclid=EAIaIQobChMIuorfgM71jQMVyQLUAR0ecQhnEAQYGyABEgKfV_D_BwE&category=acrcp_v1_48&sig=AOD64_2QyirA-E6kll3THB4OXPjXGCQYhQ&adurl=', 'source': 'Expedia.com', 'rating': 4.4, 'reviews': 7500, 'reviews_original': '7.5K', 'thumbnail': 'https://lh3.googleusercontent.com/proxy/_378U6bYppRLF_MN5wJoS0YKq0x2QovRgzmSJq2kqscrvfnAgJUdpH_ZgBML-4KjbdYmQhdl9ahS6yTcb21mSCN8IMjLwkE3ChP154NuX6x-DAoZnYbJ3lTD9YI_IKBKcoivcOL7JcgDjvuKXOrimasS3mJGZag=w124-h64-n'}, {'position': 28, 'block_position': 'top', 'title': 'FabHotel RK Residency', 'price': '$20', 'extracted_price': 20, 'link': 'https://www.google.com/aclk?sa=l&ai=DChcSEwi6it-AzvWNAxXJAtQBHR5xCGcYABANGgJvYQ&co=1&gclid=EAIaIQobChMIuorfgM71jQMVyQLUAR0ecQhnEAQYHCABEgIw1PD_BwE&category=acrcp_v1_48&sig=AOD64_3XhCeMvBm24FUnkk1sR1MbtHkl4A&adurl=', 'source': 'Expedia.com', 'rating': 4.8, 'reviews': 125, 'reviews_original': '125', 'thumbnail': 'https://lh4.googleusercontent.com/proxy/MFKMZ6_cvz2esKTjHTC6M4anDV8EO9W4FWiGx7W6-DZoK7G4wprCKTYhgVZB1m-CtNXGItE3HWJwuD_RbbsdxotlIdbNy2ouxyr5T4K8sfQXq5-j77dxnnllProMnJk5s5VOSZamnWeGBFmT4EhrQHu-RUfvfQ=w124-h64-n'}, {'position': 29, 'block_position': 'top', 'title': 'Peerless Hotel Hyderabad', 'price': '$38', 'extracted_price': 38, 'link': 'https://www.google.com/aclk?sa=l&ai=DChcSEwi6it-AzvWNAxXJAtQBHR5xCGcYABAKGgJvYQ&co=1&gclid=EAIaIQobChMIuorfgM71jQMVyQLUAR0ecQhnEAQYHSABEgKBmvD_BwE&category=acrcp_v1_48&sig=AOD64_2fB5y7SejFW-BGeuUJgG4b7ybCDw&adurl=', 'source': 'Expedia.com', 'rating': 4.0, 'reviews': 3400, 'reviews_original': '3.4K', 'thumbnail': 'https://lh4.googleusercontent.com/proxy/7Cwhr5lmbIr5K-dujOpsqA3OKGLmX3oFYfUuLl8pZVzrx8787KYwnZJEMPFhb_vkY1gAO0JXKkd_25lkSM8LZejtko3FQSeXqbnSwtEezUqNPKm7TMkrJtwR5LJ-K8rAJ7oB5YFrOIRFqGg933ik4_xtReB3hA=w124-h64-n'}, {'position': 30, 'block_position': 'top', 'title': 'Sunrise Business Hotel', 'price': '$29', 'extracted_price': 29, 'link': 'https://www.google.com/aclk?sa=l&ai=DChcSEwi6it-AzvWNAxXJAtQBHR5xCGcYABAtGgJvYQ&co=1&gclid=EAIaIQobChMIuorfgM71jQMVyQLUAR0ecQhnEAQYHiABEgIBa_D_BwE&category=acrcp_v1_48&sig=AOD64_139b4sRW82M0oPM-Uz56h03odHYA&adurl=', 'source': 'Expedia.com', 'rating': 4.8, 'reviews': 132, 'reviews_original': '132', 'thumbnail': 'https://lh6.googleusercontent.com/proxy/AuUavtapdqYxjQy6jXCItToD0X8M7MSuxXrsQV2tNcSGWPD03CNQMo80FX8M0TN-imq2XcObeshVQKSAkht-1TQ_2wFb63UTL01X2xcEAVIe1l25x8ibxnNo3dClg_lb5gSuqy37jK9ENP-KuCwY4oLMptin6g=w124-h64-n'}], 'related_questions': [{'question': 'Which place is best to stay in Hyderabad?', 'snippet': None, 'title': 'The 10 best places to stay in Hyderabad, India | Booking.com', 'link': 'https://www.booking.com/placestostay/city/in/hyderabad.html', 'list': ['Trident Hyderabad. Hyderabad. ... ', 'The Park Hyderabad, Banjara Hills near Hussain Sagar Lake. Hyderabad. ... ', 'Oak Business Hotel. Hyderabad. ... ', 'SKYLA Studios & Suites - Kondapur. Hyderabad. ... ', 'Taj Falaknuma Palace. Hyderabad. ... ', 'FabHotel AIG Broholic - 250M from AIG Hospital, Gachibowli. Hyderabad. ... ', 'Hiwa Boutique Hotel. Hyderabad. ... ', 'Hotel M Hyatt.'], 'displayed_link': 'https://www.booking.com › placestostay › city › hyderab...', 'thumbnail': 'https://encrypted-tbn0.gstatic.com/images?q=tbn:ANd9GcRKxkOJdCAVOgOPU8SsU5g4reZx80SIz1EO3QWSsUiEXg&s', 'source_logo': 'https://serpapi.com/searches/684fe14cf7ae8de206998887/images/c03658c78dfab54dad5c6e818920ba3cc711e9774e979abbd92dce317db6ec27.png', 'next_page_token': 'eyJvbnMiOiIxMDA0MSIsImZjIjoiRXFBQkNtSkJUR3QwWDNaSFltZFFXR1YzT1RWMlJYY3pNSFZZWmt4dlEyOUNSazU0YTFnM1NuVXdXV1ZmT1dKNFNWTnpaM1ZuYkVJMmNHaGFTVU5EUlROQ1REbEtSRFkxZUZsRGEyTkZNbkJFYVdGb1RucDZkM0Z2ZHpaNFdqTTRWRlZ3UkhZelFSSVdWbVZHVUdGUFIxbE1ZV3BsY0RnMFVIcHpYMGRMUVJvaVFVWk5RVWRIYjNSa2JXNVdiRTU1T1hkMVRGQTRYMTlTZVZWNlUzUm9UbkZwUVEiLCJmY3YiOiIzIiwiZWkiOiJWZUZQYU9HWUxhamVwODRQenNfR0tBIiwicWMiOiJDaE5vYjNSbGJITWdhVzRnYUhsa1pYSmhZbUZrRUFCOW1EQW5QdyIsInF1ZXN0aW9uIjoiV2hpY2ggcGxhY2UgaXMgYmVzdCB0byBzdGF5IGluIEh5ZGVyYWJhZD8iLCJsayI6IkdpaDNhR2xqYUNCd2JHRmpaU0JwY3lCaVpYTjBJSFJ2SUhOMFlYa2dhVzRnYUhsa1pYSmhZbUZrIiwiYnMiOiJjNDNQdlFyQ01Cd0VjRnd6T1Vxbnd3XzhXSVFzNnVUZ29vdWpCYmVfVGRvRXRaRTBXUHM2amo2QTctT2JXQXRhV2tUY2YzZkhzUzBiLWtvSENxY0RCUkk2d1U0bURzNGdjWlJCeDFobVFscmFrWmkzN2hFZmVZUDB0MWR2enpaczRDdHlMLVNVUkdCeWFFSVFyREhIV3ZVVnZPXzEwaV84amN2ZUM1djZTdHFjVUl3VkhPMGxqaGtpYlEtaDFUSVdDSTNGeWVvekJmVUx0ekdmZVpQMEU5ZF94TXZsTmVzVWpfSzd3bFNhaXd5SG9DeVp0eDRMM3ZYYWFVV3FMN0xaZUFJIiwiaWQiOiJmY19WZUZQYU9HWUxhamVwODRQenNfR0tBXzMifQ==', 'serpapi_link': 'https://serpapi.com/search.json?device=desktop&engine=google_related_questions&google_domain=google.com&next_page_token=eyJvbnMiOiIxMDA0MSIsImZjIjoiRXFBQkNtSkJUR3QwWDNaSFltZFFXR1YzT1RWMlJYY3pNSFZZWmt4dlEyOUNSazU0YTFnM1NuVXdXV1ZmT1dKNFNWTnpaM1ZuYkVJMmNHaGFTVU5EUlROQ1REbEtSRFkxZUZsRGEyTkZNbkJFYVdGb1RucDZkM0Z2ZHpaNFdqTTRWRlZ3UkhZelFSSVdWbVZHVUdGUFIxbE1ZV3BsY0RnMFVIcHpYMGRMUVJvaVFVWk5RVWRIYjNSa2JXNVdiRTU1T1hkMVRGQTRYMTlTZVZWNlUzUm9UbkZwUVEiLCJmY3YiOiIzIiwiZWkiOiJWZUZQYU9HWUxhamVwODRQenNfR0tBIiwicWMiOiJDaE5vYjNSbGJITWdhVzRnYUhsa1pYSmhZbUZrRUFCOW1EQW5QdyIsInF1ZXN0aW9uIjoiV2hpY2ggcGxhY2UgaXMgYmVzdCB0byBzdGF5IGluIEh5ZGVyYWJhZD8iLCJsayI6IkdpaDNhR2xqYUNCd2JHRmpaU0JwY3lCaVpYTjBJSFJ2SUhOMFlYa2dhVzRnYUhsa1pYSmhZbUZrIiwiYnMiOiJjNDNQdlFyQ01Cd0VjRnd6T1Vxbnd3XzhXSVFzNnVUZ29vdWpCYmVfVGRvRXRaRTBXUHM2amo2QTctT2JXQXRhV2tUY2YzZkhzUzBiLWtvSENxY0RCUkk2d1U0bURzNGdjWlJCeDFobVFscmFrWmkzN2hFZmVZUDB0MWR2enpaczRDdHlMLVNVUkdCeWFFSVFyREhIV3ZVVnZPXzEwaV84amN2ZUM1djZTdHFjVUl3VkhPMGxqaGtpYlEtaDFUSVdDSTNGeWVvekJmVUx0ekdmZVpQMEU5ZF94TXZsTmVzVWpfSzd3bFNhaXd5SG9DeVp0eDRMM3ZYYWFVV3FMN0xaZUFJIiwiaWQiOiJmY19WZUZQYU9HWUxhamVwODRQenNfR0tBXzMifQ%3D%3D'}, {'question': 'What is the cost of a room in Hyderabad?', 'snippet': 'You can easily find a room for rent in Hyderabad at a price range of ₹5,000 - ₹27,000 depending on room type. Gachibowli, Hitech City, Madhapur, Kondapur, Kukatpally are the the popular areas to find single room on rent in Hyderabad. The average rent of a single room in Hyderabad is around ₹10.1 Lac/month.', 'title': '1030+ Single Room for Rent in Hyderabad - MagicBricks', 'link': 'https://www.magicbricks.com/single-room-for-rent-in-hyderabad-pppfr#:~:text=You%20can%20easily%20find%20a,around%20%E2%82%B910.1%20Lac%2Fmonth.', 'displayed_link': 'https://www.magicbricks.com › single-room-for-rent-in-...', 'source_logo': 'https://serpapi.com/searches/684fe14cf7ae8de206998887/images/c03658c78dfab54dad5c6e818920ba3c9f869f66c3bca4d60c1a99f70d854dd3.png', 'next_page_token': 'eyJvbnMiOiIxMDA0MSIsImZjIjoiRXFBQkNtSkJUR3QwWDNaSFltZFFXR1YzT1RWMlJYY3pNSFZZWmt4dlEyOUNSazU0YTFnM1NuVXdXV1ZmT1dKNFNWTnpaM1ZuYkVJMmNHaGFTVU5EUlROQ1REbEtSRFkxZUZsRGEyTkZNbkJFYVdGb1RucDZkM0Z2ZHpaNFdqTTRWRlZ3UkhZelFSSVdWbVZHVUdGUFIxbE1ZV3BsY0RnMFVIcHpYMGRMUVJvaVFVWk5RVWRIYjNSa2JXNVdiRTU1T1hkMVRGQTRYMTlTZVZWNlUzUm9UbkZwUVEiLCJmY3YiOiIzIiwiZWkiOiJWZUZQYU9HWUxhamVwODRQenNfR0tBIiwicWMiOiJDaE5vYjNSbGJITWdhVzRnYUhsa1pYSmhZbUZrRUFCOW1EQW5QdyIsInF1ZXN0aW9uIjoiV2hhdCBpcyB0aGUgY29zdCBvZiBhIHJvb20gaW4gSHlkZXJhYmFkPyIsImxrIjoiR2lWM2FHRjBJR2x6SUhSb1pTQmpiM04wSUc5bUlISnZiMjBnYVc0Z2FIbGtaWEpoWW1GayIsImJzIjoiYzQzUHZRckNNQndFY0Z3ek9VcW53d184V0lRczZ1VGdvb3VqQmJlX1Rkb0V0WkUwV1BzNmpqNkE3LU9iV0F0YVdrVGNmM2ZIc1MwYi1rb0hDcWNEQlJJNndVNG1EczRnY1pSQngxaG1RbHJha1ppMzdoRWZlWVAwdDFkdnp6WnM0Q3R5TC1TVVJHQnlhRUlRckRISFd2VVZ2T18xMGlfOGpjdmVDNXY2U3RxY1VJd1ZITzBsamhraWJRLWgxVElXQ0kzRnllb3pCZlVMdHpHZmVaUDBFOWRfeE12bE5lc1VqX0s3d2xTYWl3eUhvQ3ladHg0TDN2WGFhVVdxTDdMWmVBSSIsImlkIjoiZmNfVmVGUGFPR1lMYWplcDg0UHpzX0dLQV8zIn0=', 'serpapi_link': 'https://serpapi.com/search.json?device=desktop&engine=google_related_questions&google_domain=google.com&next_page_token=eyJvbnMiOiIxMDA0MSIsImZjIjoiRXFBQkNtSkJUR3QwWDNaSFltZFFXR1YzT1RWMlJYY3pNSFZZWmt4dlEyOUNSazU0YTFnM1NuVXdXV1ZmT1dKNFNWTnpaM1ZuYkVJMmNHaGFTVU5EUlROQ1REbEtSRFkxZUZsRGEyTkZNbkJFYVdGb1RucDZkM0Z2ZHpaNFdqTTRWRlZ3UkhZelFSSVdWbVZHVUdGUFIxbE1ZV3BsY0RnMFVIcHpYMGRMUVJvaVFVWk5RVWRIYjNSa2JXNVdiRTU1T1hkMVRGQTRYMTlTZVZWNlUzUm9UbkZwUVEiLCJmY3YiOiIzIiwiZWkiOiJWZUZQYU9HWUxhamVwODRQenNfR0tBIiwicWMiOiJDaE5vYjNSbGJITWdhVzRnYUhsa1pYSmhZbUZrRUFCOW1EQW5QdyIsInF1ZXN0aW9uIjoiV2hhdCBpcyB0aGUgY29zdCBvZiBhIHJvb20gaW4gSHlkZXJhYmFkPyIsImxrIjoiR2lWM2FHRjBJR2x6SUhSb1pTQmpiM04wSUc5bUlISnZiMjBnYVc0Z2FIbGtaWEpoWW1GayIsImJzIjoiYzQzUHZRckNNQndFY0Z3ek9VcW53d184V0lRczZ1VGdvb3VqQmJlX1Rkb0V0WkUwV1BzNmpqNkE3LU9iV0F0YVdrVGNmM2ZIc1MwYi1rb0hDcWNEQlJJNndVNG1EczRnY1pSQngxaG1RbHJha1ppMzdoRWZlWVAwdDFkdnp6WnM0Q3R5TC1TVVJHQnlhRUlRckRISFd2VVZ2T18xMGlfOGpjdmVDNXY2U3RxY1VJd1ZITzBsamhraWJRLWgxVElXQ0kzRnllb3pCZlVMdHpHZmVaUDBFOWRfeE12bE5lc1VqX0s3d2xTYWl3eUhvQ3ladHg0TDN2WGFhVVdxTDdMWmVBSSIsImlkIjoiZmNfVmVGUGFPR1lMYWplcDg0UHpzX0dLQV8zIn0%3D'}, {'question': 'Where can I take my girlfriend for privacy in Hyderabad?', 'snippet': 'you can take her to Neclace Road, Golkonda fort, Ramoji Film City, Lumbini Park, Prasads Imax, GVK, Forum Mall, we got wonderla over here, qutub shahi tombs, Charminar, Begum Bazar, and many more.', 'title': 'What are some good places to make out with your girlfriend in Hyderabad? - Quora', 'date': 'Dec 31, 2014', 'link': 'https://www.quora.com/What-are-some-good-places-to-make-out-with-your-girlfriend-in-Hyderabad', 'displayed_link': 'https://www.quora.com › What-are-some-good-places-to...', 'source_logo': None, 'next_page_token': 'eyJvbnMiOiIxMDA0MSIsImZjIjoiRXFBQkNtSkJUR3QwWDNaSFltZFFXR1YzT1RWMlJYY3pNSFZZWmt4dlEyOUNSazU0YTFnM1NuVXdXV1ZmT1dKNFNWTnpaM1ZuYkVJMmNHaGFTVU5EUlROQ1REbEtSRFkxZUZsRGEyTkZNbkJFYVdGb1RucDZkM0Z2ZHpaNFdqTTRWRlZ3UkhZelFSSVdWbVZHVUdGUFIxbE1ZV3BsY0RnMFVIcHpYMGRMUVJvaVFVWk5RVWRIYjNSa2JXNVdiRTU1T1hkMVRGQTRYMTlTZVZWNlUzUm9UbkZwUVEiLCJmY3YiOiIzIiwiZWkiOiJWZUZQYU9HWUxhamVwODRQenNfR0tBIiwicWMiOiJDaE5vYjNSbGJITWdhVzRnYUhsa1pYSmhZbUZrRUFCOW1EQW5QdyIsInF1ZXN0aW9uIjoiV2hlcmUgY2FuIEkgdGFrZSBteSBnaXJsZnJpZW5kIGZvciBwcml2YWN5IGluIEh5ZGVyYWJhZD8iLCJsayI6ImN3WEJ3UTJBTUF3RHdEMTRlUXZtQ1UxS0xTQkZGZ0psZS02VzlSdWhRTE1FOGRnUnVBbzdkWFl4MHRHbmNJdXZ0UUlUb3p4a21fa1AiLCJicyI6ImM0M1B2UXJDTUJ3RWNGd3pPVXFud3dfOFdJUXM2dVRnb291akJiZV9UZG9FdFpFMFdQczZqajZBNy1PYldBdGFXa1RjZjNmSHNTMGIta29IQ3FjREJSSTZ3VTRtRHM0Z2NaUkJ4MWhtUWxyYWtaaTM3aEVmZVlQMHQxZHZ6elpzNEN0eUwtU1VSR0J5YUVJUXJESEhXdlVWdk9fMTBpXzhqY3ZlQzV2NlN0cWNVSXdWSE8wbGpoa2liUS1oMVRJV0NJM0Z5ZW96QmZVTHR6R2ZlWlAwRTlkX3hNdmxOZXNVal9LN3dsU2Fpd3lIb0N5WnR4NEwzdlhhYVVXcUw3TFplQUkiLCJpZCI6ImZjX1ZlRlBhT0dZTGFqZXA4NFB6c19HS0FfMyJ9', 'serpapi_link': 'https://serpapi.com/search.json?device=desktop&engine=google_related_questions&google_domain=google.com&next_page_token=eyJvbnMiOiIxMDA0MSIsImZjIjoiRXFBQkNtSkJUR3QwWDNaSFltZFFXR1YzT1RWMlJYY3pNSFZZWmt4dlEyOUNSazU0YTFnM1NuVXdXV1ZmT1dKNFNWTnpaM1ZuYkVJMmNHaGFTVU5EUlROQ1REbEtSRFkxZUZsRGEyTkZNbkJFYVdGb1RucDZkM0Z2ZHpaNFdqTTRWRlZ3UkhZelFSSVdWbVZHVUdGUFIxbE1ZV3BsY0RnMFVIcHpYMGRMUVJvaVFVWk5RVWRIYjNSa2JXNVdiRTU1T1hkMVRGQTRYMTlTZVZWNlUzUm9UbkZwUVEiLCJmY3YiOiIzIiwiZWkiOiJWZUZQYU9HWUxhamVwODRQenNfR0tBIiwicWMiOiJDaE5vYjNSbGJITWdhVzRnYUhsa1pYSmhZbUZrRUFCOW1EQW5QdyIsInF1ZXN0aW9uIjoiV2hlcmUgY2FuIEkgdGFrZSBteSBnaXJsZnJpZW5kIGZvciBwcml2YWN5IGluIEh5ZGVyYWJhZD8iLCJsayI6ImN3WEJ3UTJBTUF3RHdEMTRlUXZtQ1UxS0xTQkZGZ0psZS02VzlSdWhRTE1FOGRnUnVBbzdkWFl4MHRHbmNJdXZ0UUlUb3p4a21fa1AiLCJicyI6ImM0M1B2UXJDTUJ3RWNGd3pPVXFud3dfOFdJUXM2dVRnb291akJiZV9UZG9FdFpFMFdQczZqajZBNy1PYldBdGFXa1RjZjNmSHNTMGIta29IQ3FjREJSSTZ3VTRtRHM0Z2NaUkJ4MWhtUWxyYWtaaTM3aEVmZVlQMHQxZHZ6elpzNEN0eUwtU1VSR0J5YUVJUXJESEhXdlVWdk9fMTBpXzhqY3ZlQzV2NlN0cWNVSXdWSE8wbGpoa2liUS1oMVRJV0NJM0Z5ZW96QmZVTHR6R2ZlWlAwRTlkX3hNdmxOZXNVal9LN3dsU2Fpd3lIb0N5WnR4NEwzdlhhYVVXcUw3TFplQUkiLCJpZCI6ImZjX1ZlRlBhT0dZTGFqZXA4NFB6c19HS0FfMyJ9'}, {'question': 'What to do in Hyderabad for 2 days?', 'snippet': None, 'title': 'Day 1: Heritage, Culture, and History', 'date': 'Oct 29, 2024', 'link': 'https://weekendyaari.in/2024/10/29/places-to-visit-in-hyderabad-in-2-days/', 'list': ['Charminar: Start with the Icon. Begin your two-day exploration of Hyderabad at the Charminar, the most famous symbol of the city. ... ', 'Mecca Masjid: Historical and Sacred. ... ', 'Chowmahalla Palace: The Splendor of the Nizams. ... ', 'Salar Jung Museum: An Artistic Journey. ... ', 'Birla Mandir: A Hilltop Temple.'], 'displayed_link': 'https://weekendyaari.in › 2024/10/29 › places-to-visit-in-...', 'thumbnail': 'https://encrypted-tbn0.gstatic.com/images?q=tbn:ANd9GcQp9Cn9bwMmfdzCxmGtp_bUh8nb5zEz4LjLNcIdKvUFiQ&s', 'source_logo': 'https://serpapi.com/searches/684fe14cf7ae8de206998887/images/c03658c78dfab54dad5c6e818920ba3c8dbc34107dfbb1cc9de5850f8401ccf1.png', 'next_page_token': 'eyJvbnMiOiIxMDA0MSIsImZjIjoiRXFBQkNtSkJUR3QwWDNaSFltZFFXR1YzT1RWMlJYY3pNSFZZWmt4dlEyOUNSazU0YTFnM1NuVXdXV1ZmT1dKNFNWTnpaM1ZuYkVJMmNHaGFTVU5EUlROQ1REbEtSRFkxZUZsRGEyTkZNbkJFYVdGb1RucDZkM0Z2ZHpaNFdqTTRWRlZ3UkhZelFSSVdWbVZHVUdGUFIxbE1ZV3BsY0RnMFVIcHpYMGRMUVJvaVFVWk5RVWRIYjNSa2JXNVdiRTU1T1hkMVRGQTRYMTlTZVZWNlUzUm9UbkZwUVEiLCJmY3YiOiIzIiwiZWkiOiJWZUZQYU9HWUxhamVwODRQenNfR0tBIiwicWMiOiJDaE5vYjNSbGJITWdhVzRnYUhsa1pYSmhZbUZrRUFCOW1EQW5QdyIsInF1ZXN0aW9uIjoiV2hhdCB0byBkbyBpbiBIeWRlcmFiYWQgZm9yIDIgZGF5cz8iLCJsayI6IkdpSjNhR0YwSUhSdklHUnZJR2x1SUdoNVpHVnlZV0poWkNCbWIzSWdNaUJrWVhseiIsImJzIjoiYzQzUHZRckNNQndFY0Z3ek9VcW53d184V0lRczZ1VGdvb3VqQmJlX1Rkb0V0WkUwV1BzNmpqNkE3LU9iV0F0YVdrVGNmM2ZIc1MwYi1rb0hDcWNEQlJJNndVNG1EczRnY1pSQngxaG1RbHJha1ppMzdoRWZlWVAwdDFkdnp6WnM0Q3R5TC1TVVJHQnlhRUlRckRISFd2VVZ2T18xMGlfOGpjdmVDNXY2U3RxY1VJd1ZITzBsamhraWJRLWgxVElXQ0kzRnllb3pCZlVMdHpHZmVaUDBFOWRfeE12bE5lc1VqX0s3d2xTYWl3eUhvQ3ladHg0TDN2WGFhVVdxTDdMWmVBSSIsImlkIjoiZmNfVmVGUGFPR1lMYWplcDg0UHpzX0dLQV8zIn0=', 'serpapi_link': 'https://serpapi.com/search.json?device=desktop&engine=google_related_questions&google_domain=google.com&next_page_token=eyJvbnMiOiIxMDA0MSIsImZjIjoiRXFBQkNtSkJUR3QwWDNaSFltZFFXR1YzT1RWMlJYY3pNSFZZWmt4dlEyOUNSazU0YTFnM1NuVXdXV1ZmT1dKNFNWTnpaM1ZuYkVJMmNHaGFTVU5EUlROQ1REbEtSRFkxZUZsRGEyTkZNbkJFYVdGb1RucDZkM0Z2ZHpaNFdqTTRWRlZ3UkhZelFSSVdWbVZHVUdGUFIxbE1ZV3BsY0RnMFVIcHpYMGRMUVJvaVFVWk5RVWRIYjNSa2JXNVdiRTU1T1hkMVRGQTRYMTlTZVZWNlUzUm9UbkZwUVEiLCJmY3YiOiIzIiwiZWkiOiJWZUZQYU9HWUxhamVwODRQenNfR0tBIiwicWMiOiJDaE5vYjNSbGJITWdhVzRnYUhsa1pYSmhZbUZrRUFCOW1EQW5QdyIsInF1ZXN0aW9uIjoiV2hhdCB0byBkbyBpbiBIeWRlcmFiYWQgZm9yIDIgZGF5cz8iLCJsayI6IkdpSjNhR0YwSUhSdklHUnZJR2x1SUdoNVpHVnlZV0poWkNCbWIzSWdNaUJrWVhseiIsImJzIjoiYzQzUHZRckNNQndFY0Z3ek9VcW53d184V0lRczZ1VGdvb3VqQmJlX1Rkb0V0WkUwV1BzNmpqNkE3LU9iV0F0YVdrVGNmM2ZIc1MwYi1rb0hDcWNEQlJJNndVNG1EczRnY1pSQngxaG1RbHJha1ppMzdoRWZlWVAwdDFkdnp6WnM0Q3R5TC1TVVJHQnlhRUlRckRISFd2VVZ2T18xMGlfOGpjdmVDNXY2U3RxY1VJd1ZITzBsamhraWJRLWgxVElXQ0kzRnllb3pCZlVMdHpHZmVaUDBFOWRfeE12bE5lc1VqX0s3d2xTYWl3eUhvQ3ladHg0TDN2WGFhVVdxTDdMWmVBSSIsImlkIjoiZmNfVmVGUGFPR1lMYWplcDg0UHpzX0dLQV8zIn0%3D'}], 'answer_box': {'type': 'hotels', 'query': {'location': 'Hyderabad, Telangana, India', 'days': ['Sat, Jun 21', 'Sun, Jun 22'], 'people': 2}, 'hotels': [{'link': 'https://www.google.com/travel/search?g2lb=4965990,4969803,72277293,72302247,72317059,72414906,72471280,72472051,72481459,72485658,72560029,72573224,72616120,72647020,72648289,72686036,72760082,72803964,72832976,72882230,72885032,72941409,72946003,72958594,72958624,72959982,72963671,72978495,72991410&hl=en-US&gl=us&ssta=1&q=hotels+in+hyderabad&ts=CAESCgoCCAMKAggDEAAaHBIaEhQKBwjpDxAGGBUSBwjpDxAGGBYYATICEAAqBwoFOgNVU0Q&qs=CAEyE0Nnb0kyNHlxdWFtOGtZdEpFQUU4CkIJEUPhGtil6DDwQgkRRqptq1JIfHFCCREoactOZJ_YI1pOCAEySqoBRxABKgoiBmhvdGVscygAMh4QASIa1vZAHec-CRVs5m4FLpFtm1IFOtJNyP3q28UyFxACIhNob3RlbHMgaW4gaHlkZXJhYmFk&ap=aAG6AQhvdmVydmlldw&ictx=111&ved=1t:196188', 'image': 'https://serpapi.com/searches/684fe14cf7ae8de206998887/images/8de7d1cd2480de8b76b1b1cca012070451a84cbb5f38553edbd3f1272912e4ed.jpeg', 'price': '$74', 'title': 'Hyderabad Marriott Hotel & Convention Centre', 'rating': 4.4, 'reviews': 20834, 'deal': 'DEAL', 'sale': '23% less than usual'}, {'link': 'https://www.google.com/travel/search?g2lb=4965990,4969803,72277293,72302247,72317059,72414906,72471280,72472051,72481459,72485658,72560029,72573224,72616120,72647020,72648289,72686036,72760082,72803964,72832976,72882230,72885032,72941409,72946003,72958594,72958624,72959982,72963671,72978495,72991410&hl=en-US&gl=us&ssta=1&q=hotels+in+hyderabad&ts=CAESCgoCCAMKAggDEAAaHBIaEhQKBwjpDxAGGBUSBwjpDxAGGBYYATICEAAqBwoFOgNVU0Q&qs=CAEyFENnc0k0NE90cmFmQnpiV21BUkFCOApCCRFD4RrYpegw8EIJEUaqbatSSHxxQgkRKGnLTmSf2CNaTggBMkqqAUcQASoKIgZob3RlbHMoADIeEAEiGtb2QB3nPgkVbOZuBS6RbZtSBTrSTcj96tvFMhcQAiITaG90ZWxzIGluIGh5ZGVyYWJhZA&ap=aAG6AQhvdmVydmlldw&ictx=111&ved=1t:196188', 'image': 'https://serpapi.com/searches/684fe14cf7ae8de206998887/images/8de7d1cd2480de8b76b1b1cca012070415d07c5a360d8dac277f8aadfa5045f3.jpeg', 'price': '$67', 'title': 'THE PARK HYDERABAD', 'rating': 4.2, 'reviews': 19873, 'features': ['Pool', 'Spa']}, {'link': 'https://www.google.com/travel/search?g2lb=4965990,4969803,72277293,72302247,72317059,72414906,72471280,72472051,72481459,72485658,72560029,72573224,72616120,72647020,72648289,72686036,72760082,72803964,72832976,72882230,72885032,72941409,72946003,72958594,72958624,72959982,72963671,72978495,72991410&hl=en-US&gl=us&ssta=1&q=hotels+in+hyderabad&ts=CAESCgoCCAMKAggDEAAaHBIaEhQKBwjpDxAGGBUSBwjpDxAGGBYYATICEAAqBwoFOgNVU0Q&qs=CAEyFENnc0kwX0gwMXJYcWtmX0JBUkFCOApCCRFD4RrYpegw8EIJEUaqbatSSHxxQgkRKGnLTmSf2CNaTggBMkqqAUcQASoKIgZob3RlbHMoADIeEAEiGtb2QB3nPgkVbOZuBS6RbZtSBTrSTcj96tvFMhcQAiITaG90ZWxzIGluIGh5ZGVyYWJhZA&ap=aAG6AQhvdmVydmlldw&ictx=111&ved=1t:196188', 'image': 'https://serpapi.com/searches/684fe14cf7ae8de206998887/images/8de7d1cd2480de8b76b1b1cca0120704885c26422e8484c80b052dcee2981f8b.jpeg', 'price': '$110', 'title': 'Park Hyatt Hyderabad', 'rating': 4.5, 'reviews': 17379, 'deal': 'GREAT DEAL', 'sale': '32% less than usual'}, {'link': 'https://www.google.com/travel/search?g2lb=4965990,4969803,72277293,72302247,72317059,72414906,72471280,72472051,72481459,72485658,72560029,72573224,72616120,72647020,72648289,72686036,72760082,72803964,72832976,72882230,72885032,72941409,72946003,72958594,72958624,72959982,72963671,72978495,72991410&hl=en-US&gl=us&ssta=1&q=hotels+in+hyderabad&ts=CAESCgoCCAMKAggDEAAaHBIaEhQKBwjpDxAGGBUSBwjpDxAGGBYYATICEAAqBwoFOgNVU0Q&qs=CAEyE0Nnb0kyTDM4dE1TTHB0Ri1FQUU4CkIJEQ8z3KxR9DUpQgkR0JJiPS2tXdxCCRG9QQd3_-cFK1pOCAEySqoBRxABKgoiBmhvdGVscygAMh4QASIa1vZAHec-CRVs5m4FLpFtm1IFOtJNyP3q28UyFxACIhNob3RlbHMgaW4gaHlkZXJhYmFk&ap=aAG6AQhvdmVydmlldw&ictx=111&ved=1t:196188', 'image': 'https://serpapi.com/searches/684fe14cf7ae8de206998887/images/8de7d1cd2480de8b76b1b1cca0120704285f9145468fa68c82a38ebd811a4742.png', 'price': '$64', 'title': 'Mercure Hyderabad KCP', 'rating': 4.5, 'reviews': 12707, 'features': ['Eco-certified', 'Free Wi-Fi']}, {'link': 'https://www.google.com/travel/search?g2lb=4965990,4969803,72277293,72302247,72317059,72414906,72471280,72472051,72481459,72485658,72560029,72573224,72616120,72647020,72648289,72686036,72760082,72803964,72832976,72882230,72885032,72941409,72946003,72958594,72958624,72959982,72963671,72978495,72991410&hl=en-US&gl=us&ssta=1&q=hotels+in+hyderabad&ts=CAESCgoCCAMKAggDEAAaHBIaEhQKBwjpDxAGGBUSBwjpDxAGGBYYATICEAAqBwoFOgNVU0Q&qs=CAEyE0Nnb0k3N0hleEpDdTg1Ql9FQUU4CkIJEQ8z3KxR9DUpQgkR0JJiPS2tXdxCCRG9QQd3_-cFK1pOCAEySqoBRxABKgoiBmhvdGVscygAMh4QASIa1vZAHec-CRVs5m4FLpFtm1IFOtJNyP3q28UyFxACIhNob3RlbHMgaW4gaHlkZXJhYmFk&ap=aAG6AQhvdmVydmlldw&ictx=111&ved=1t:196188', 'image': 'https://serpapi.com/searches/684fe14cf7ae8de206998887/images/8de7d1cd2480de8b76b1b1cca0120704545dfe07580b59d21beff7ea7470fdc2.jpeg', 'price': '$88', 'title': 'Vivanta Hyderabad, Begumpet', 'rating': 4.4, 'reviews': 14835, 'features': ['Eco-certified', 'Pool']}, {'link': 'https://www.google.com/travel/search?g2lb=4965990,4969803,72277293,72302247,72317059,72414906,72471280,72472051,72481459,72485658,72560029,72573224,72616120,72647020,72648289,72686036,72760082,72803964,72832976,72882230,72885032,72941409,72946003,72958594,72958624,72959982,72963671,72978495,72991410&hl=en-US&gl=us&ssta=1&q=hotels+in+hyderabad&ts=CAESCgoCCAMKAggDEAAaHBIaEhQKBwjpDxAGGBUSBwjpDxAGGBYYATICEAAqBwoFOgNVU0Q&qs=CAEyFENnc0l6S3pUb2ZlVGhPcUVBUkFCOApCCREPM9ysUfQ1KUIJEdCSYj0trV3cQgkRvUEHd__nBStaTggBMkqqAUcQASoKIgZob3RlbHMoADIeEAEiGtb2QB3nPgkVbOZuBS6RbZtSBTrSTcj96tvFMhcQAiITaG90ZWxzIGluIGh5ZGVyYWJhZA&ap=aAG6AQhvdmVydmlldw&ictx=111&ved=1t:196188', 'image': 'https://serpapi.com/searches/684fe14cf7ae8de206998887/images/8de7d1cd2480de8b76b1b1cca0120704a395425630c6c8ecc47764de9be59dbe.jpeg', 'price': '$67', 'title': 'Avasa', 'rating': 4.4, 'reviews': 14667, 'deal': 'GREAT DEAL', 'sale': '36% less than usual'}, {'link': 'https://www.google.com/travel/search?g2lb=4965990,4969803,72277293,72302247,72317059,72414906,72471280,72472051,72481459,72485658,72560029,72573224,72616120,72647020,72648289,72686036,72760082,72803964,72832976,72882230,72885032,72941409,72946003,72958594,72958624,72959982,72963671,72978495,72991410&hl=en-US&gl=us&ssta=1&q=hotels+in+hyderabad&ts=CAESCgoCCAMKAggDEAAaHBIaEhQKBwjpDxAGGBUSBwjpDxAGGBYYATICEAAqBwoFOgNVU0Q&qs=CAEyE0Nnb0lfdW1HaGFUd2diY25FQUU4CkIJEYQbb-xk8yKcQgkRKPuQlQT2yxRCCRFILmqcqWYy31pOCAEySqoBRxABKgoiBmhvdGVscygAMh4QASIa1vZAHec-CRVs5m4FLpFtm1IFOtJNyP3q28UyFxACIhNob3RlbHMgaW4gaHlkZXJhYmFk&ap=aAG6AQhvdmVydmlldw&ictx=111&ved=1t:196188', 'image': 'https://lh3.googleusercontent.com/p/AF1QipPMbUotB7xVKoZn8jocsyEa3oWsQtUEav82-N7X=s204-w204-h116-p-n-k-no', 'price': '$50', 'title': 'Hotel Deccan Serai Grande, Gachibowli, Hyderabad | Hotels in Gachibowli', 'rating': 4.7, 'reviews': 3041, 'deal': 'GREAT DEAL', 'sale': '30% less than usual'}, {'link': 'https://www.google.com/travel/search?g2lb=4965990,4969803,72277293,72302247,72317059,72414906,72471280,72472051,72481459,72485658,72560029,72573224,72616120,72647020,72648289,72686036,72760082,72803964,72832976,72882230,72885032,72941409,72946003,72958594,72958624,72959982,72963671,72978495,72991410&hl=en-US&gl=us&ssta=1&q=hotels+in+hyderabad&ts=CAESCgoCCAMKAggDEAAaHBIaEhQKBwjpDxAGGBUSBwjpDxAGGBYYATICEAAqBwoFOgNVU0Q&qs=CAEyFENnc0kyb1hWZzhpTnQ2dUdBUkFCOApCCRGEG2_sZPMinEIJESj7kJUE9ssUQgkRSC5qnKlmMt9aTggBMkqqAUcQASoKIgZob3RlbHMoADIeEAEiGtb2QB3nPgkVbOZuBS6RbZtSBTrSTcj96tvFMhcQAiITaG90ZWxzIGluIGh5ZGVyYWJhZA&ap=aAG6AQhvdmVydmlldw&ictx=111&ved=1t:196188', 'image': 'https://lh3.googleusercontent.com/gps-cs-s/AC9h4nrjHiHpMXpS0lyHUa1BAFoiaC5Rjhov8bJuRbLJLeJsyhmv3BKbt06MYQlYg4eRezhRFT9R44EL5tjMDwaPDXDJDYpKmp61X294xHJnBRkNQnpjwtUZFoapFC1_pkZOUdnhTeMq=s204-w204-h116-p-n-k-no', 'price': '$105', 'title': 'Taj Krishna, Hyderabad', 'rating': 4.5, 'reviews': 18490, 'features': ['Eco-certified', 'Pool']}, {'link': 'https://www.google.com/travel/search?g2lb=4965990,4969803,72277293,72302247,72317059,72414906,72471280,72472051,72481459,72485658,72560029,72573224,72616120,72647020,72648289,72686036,72760082,72803964,72832976,72882230,72885032,72941409,72946003,72958594,72958624,72959982,72963671,72978495,72991410&hl=en-US&gl=us&ssta=1&q=hotels+in+hyderabad&ts=CAESCgoCCAMKAggDEAAaHBIaEhQKBwjpDxAGGBUSBwjpDxAGGBYYATICEAAqBwoFOgNVU0Q&qs=CAEyFENnc0luTDJ5cjV1STV2eWZBUkFCOApCCRGEG2_sZPMinEIJESj7kJUE9ssUQgkRSC5qnKlmMt9aTggBMkqqAUcQASoKIgZob3RlbHMoADIeEAEiGtb2QB3nPgkVbOZuBS6RbZtSBTrSTcj96tvFMhcQAiITaG90ZWxzIGluIGh5ZGVyYWJhZA&ap=aAG6AQhvdmVydmlldw&ictx=111&ved=1t:196188', 'image': 'https://lh3.googleusercontent.com/gps-proxy/ALd4DhE9QHwO7EWS6VtIRlXqT_xG_tuzATRSturQXUneR-SaslIlHgcDWyRIwNtpzBFgBsvfAlnNPqCHC31nAnqQSg25qPietve7wD6NuM1XEyE_q1X7CFXMX8gIi0UlmuJLrMdrSgK-Mc5yh48FaNP9jY6hg_YFN5QkGRmSRyHnc0qJlugeoUBXCJIBQw=s204-w204-h116-p-n-k-no', 'price': '$134', 'title': 'ITC Kohenur, a Luxury Collection Hotel, Hyderabad', 'rating': 4.7, 'reviews': 30802, 'deal': 'GREAT DEAL', 'sale': '48% less than usual'}], 'map_results': [{'price': '$35', 'latitude': '17.40769', 'longitude': '78.46911'}, {'price': '$27', 'latitude': '17.42992', 'longitude': '78.41808'}, {'price': '$105', 'latitude': '17.41649', 'longitude': '78.44967'}, {'price': '$109', 'latitude': '17.43251', 'longitude': '78.45735'}, {'price': '$32', 'latitude': '17.42864', 'longitude': '78.41283'}, {'price': '$26', 'latitude': '17.44236', 'longitude': '78.49089'}, {'price': '$88', 'latitude': '17.42370', 'longitude': '78.48770'}, {'price': '$64', 'latitude': '17.41768', 'longitude': '78.45670'}, {'price': '$88', 'latitude': '17.44339', 'longitude': '78.46078'}, {'price': '$9', 'latitude': '17.39025', 'longitude': '78.49035'}, {'price': '$22', 'latitude': '17.40872', 'longitude': '78.42190'}, {'price': '$28', 'latitude': '17.44508', 'longitude': '78.47108'}, {'price': '$23', 'latitude': '17.41720', 'longitude': '78.41233'}, {'price': '$110', 'latitude': '17.42481', 'longitude': '78.42959'}, {'price': '$67', 'latitude': '17.42352', 'longitude': '78.46254'}, {'price': '$74', 'latitude': '17.42428', 'longitude': '78.48715'}]}, 'organic_results': [{'position': 1, 'title': 'THE 10 BEST Hotels in Hyderabad, India 2025 (from $11)', 'link': 'https://www.tripadvisor.com/Hotels-g297586-Hyderabad_Hyderabad_District_Telangana-Hotels.html', 'redirect_link': 'https://www.google.com/url?sa=t&source=web&rct=j&opi=89978449&url=https://www.tripadvisor.com/Hotels-g297586-Hyderabad_Hyderabad_District_Telangana-Hotels.html&ved=2ahUKEwihl9qAzvWNAxUo78kDHc6nEQUQFnoECBYQAQ', 'displayed_link': 'https://www.tripadvisor.com › ... › Hyderabad', 'thumbnail': 'https://serpapi.com/searches/684fe14cf7ae8de206998887/images/c744c0d06c77f2eeb8e5861a8a44a419dfe20cb54cef481972923bac199d84c6.jpeg', 'favicon': 'https://serpapi.com/searches/684fe14cf7ae8de206998887/images/c744c0d06c77f2eeb8e5861a8a44a419089d3b9bfc4b3f6e59426cd00c855f95.png', 'snippet': 'Find the right hotel for you · 1. The Park Hyderabad · 2. Best Western Ashoka · 3. Celebrity Resort · 4. Katriya Hotel & Towers · 5. The ...', 'snippet_highlighted_words': ['1. The Park Hyderabad'], 'source': 'Tripadvisor'}, {'position': 2, 'title': 'Top 10 Hotels in Hyderabad', 'link': 'https://www.hotels.com/de685250/hotels-hyderabad-india/', 'redirect_link': 'https://www.google.com/url?sa=t&source=web&rct=j&opi=89978449&url=https://www.hotels.com/de685250/hotels-hyderabad-india/&ved=2ahUKEwihl9qAzvWNAxUo78kDHc6nEQUQFnoECBUQAQ', 'displayed_link': 'https://www.hotels.com › ... › Hotels in Telangana', 'thumbnail': 'https://serpapi.com/searches/684fe14cf7ae8de206998887/images/c744c0d06c77f2eeb8e5861a8a44a419bf0866d304725bdf17aaadb116b74cdc.jpeg', 'favicon': 'https://serpapi.com/searches/684fe14cf7ae8de206998887/images/c744c0d06c77f2eeb8e5861a8a44a41968dd770af2688406fcb7aef927e3844e.webp', 'snippet': 'Flexible booking options on most hotels. Compare 1068 hotels in Hyderabad using 5328 real guest reviews. Pay what you see with upfront pricing on all ...', 'snippet_highlighted_words': ['Compare 1068 hotels in Hyderabad'], 'source': 'Hotels.com'}, {'position': 3, 'title': 'Best Hotels In Hyderabad, India (From USD 4)', 'link': 'https://www.makemytrip.com/hotels-international/en-us/india/hyderabad-hotels/', 'redirect_link': 'https://www.google.com/url?sa=t&source=web&rct=j&opi=89978449&url=https://www.makemytrip.com/hotels-international/en-us/india/hyderabad-hotels/&ved=2ahUKEwihl9qAzvWNAxUo78kDHc6nEQUQFnoECCUQAQ', 'displayed_link': 'https://www.makemytrip.com › Hotels & Homestays', 'thumbnail': 'https://encrypted-tbn0.gstatic.com/images?q=tbn:ANd9GcRXl46F-Br-59QslPnTvihLKD82xt5KZ4_gY0h1kguPbCVvjq_2p2xOK_M&usqp=CAE&s', 'favicon': 'https://serpapi.com/searches/684fe14cf7ae8de206998887/images/c744c0d06c77f2eeb8e5861a8a44a419ebda73ab484d40d434023d956478ccfd.webp', 'snippet': 'Book Hotels in Hyderabad From 1380 Hotels · Showing Properties in Hyderabad. 3.6Very Good(5291 Ratings) · 3.8Very Good(3145 Ratings). Hotel Imperial Classic.', 'snippet_highlighted_words': ['Book Hotels in Hyderabad From 1380 Hotels'], 'source': 'MakeMyTrip'}, {'position': 4, 'title': 'Hotels in Hyderabad, India', 'link': 'https://www.marriott.com/en-us/destinations/india/hyderabad.mi', 'redirect_link': 'https://www.google.com/url?sa=t&source=web&rct=j&opi=89978449&url=https://www.marriott.com/en-us/destinations/india/hyderabad.mi&ved=2ahUKEwihl9qAzvWNAxUo78kDHc6nEQUQFnoECCcQAQ', 'displayed_link': 'https://www.marriott.com › en-us › destinations › hyder...', 'thumbnail': 'https://encrypted-tbn0.gstatic.com/images?q=tbn:ANd9GcT-N8u2fD5M43eapPCQ0TsdlLpdtPE5CItDvBoHG-ABuMwaXGDu_h6fxvc&usqp=CAE&s', 'favicon': 'https://serpapi.com/searches/684fe14cf7ae8de206998887/images/c744c0d06c77f2eeb8e5861a8a44a419f16200fe3eac2a9415aa0cbff6dc6cc3.webp', 'snippet': \"Marriott Bonvoy's hotels in Hyderabad offer a range of amenities, including complimentary Wi-Fi, fitness centers, and spa services, to ensure a relaxing and ...\", 'snippet_highlighted_words': [\"Marriott Bonvoy's hotels in Hyderabad\"], 'source': 'Marriott'}, {'position': 5, 'title': 'Top 20 Hotels in Hyderabad from $19', 'link': 'https://www.expedia.com/Hyderabad-Hotels.d6053329.Travel-Guide-Hotels', 'redirect_link': 'https://www.google.com/url?sa=t&source=web&rct=j&opi=89978449&url=https://www.expedia.com/Hyderabad-Hotels.d6053329.Travel-Guide-Hotels&ved=2ahUKEwihl9qAzvWNAxUo78kDHc6nEQUQFnoECCgQAQ', 'displayed_link': 'https://www.expedia.com › Hotels › India › Telangana', 'thumbnail': 'https://encrypted-tbn0.gstatic.com/images?q=tbn:ANd9GcQ0jaT1r3PE6bZeilmY20D-BOiB3_w2R8-evHGUo6v57OP7IFBY_iSaGH0&usqp=CAE&s', 'favicon': 'https://serpapi.com/searches/684fe14cf7ae8de206998887/images/c744c0d06c77f2eeb8e5861a8a44a419af2fc22b749c4afa8f1f810c686ef0c4.webp', 'snippet': 'Find 1125 of the best hotels in Hyderabad in 2025. Compare room rates, hotel reviews and availability. Most hotels are fully refundable.', 'snippet_highlighted_words': ['1125 of the best hotels in Hyderabad in 2025'], 'source': 'Expedia'}, {'position': 6, 'title': 'Hotels in Hyderabad Starting at ₹472 by ...', 'link': 'https://www.oyorooms.com/hotels-in-hyderabad/', 'redirect_link': 'https://www.google.com/url?sa=t&source=web&rct=j&opi=89978449&url=https://www.oyorooms.com/hotels-in-hyderabad/&ved=2ahUKEwihl9qAzvWNAxUo78kDHc6nEQUQFnoECCMQAQ', 'displayed_link': 'https://www.oyorooms.com › hotels-in-hyderabad', 'thumbnail': 'https://encrypted-tbn0.gstatic.com/images?q=tbn:ANd9GcS8FIIe2TGE-lgxztQemCFMZkPx4-rZykRT7pWouBQ8-NX1ZNhW3tkJ1bM&usqp=CAE&s', 'favicon': 'https://serpapi.com/searches/684fe14cf7ae8de206998887/images/c744c0d06c77f2eeb8e5861a8a44a419038a4336f8ba55fccfcf073291c01bac.png', 'snippet': 'Looking for budget hotels in Hyderabad? Discover comfort and convenience with OYO Rooms. Book & save upto 75%. Free cancellation, Free Wifi & Breakfast.', 'snippet_highlighted_words': ['OYO Rooms'], 'source': 'OYO'}, {'position': 7, 'title': '10 Best Hyderabad Hotels, India (From $16)', 'link': 'https://www.booking.com/city/in/hyderabad.html', 'redirect_link': 'https://www.google.com/url?sa=t&source=web&rct=j&opi=89978449&url=https://www.booking.com/city/in/hyderabad.html&ved=2ahUKEwihl9qAzvWNAxUo78kDHc6nEQUQFnoECCQQAQ', 'displayed_link': 'https://www.booking.com › ... › Telangana › Hyderabad', 'thumbnail': 'https://encrypted-tbn0.gstatic.com/images?q=tbn:ANd9GcQebN1xun8DaV17Qfhh1ZZtUW6bW5YuN2HYsiKMT7HJqg&usqp=CAE&s', 'favicon': 'https://serpapi.com/searches/684fe14cf7ae8de206998887/images/c744c0d06c77f2eeb8e5861a8a44a419e81315e8a951be33ada56976c35a3ffd.png', 'snippet': \"Just 0.6 mi from GVK One, Hyderabad's largest shopping mall, the 5-star Radisson Blu Plaza Hotel features 3 dining options and an outdoor swimming pool.\", 'snippet_highlighted_words': [\"Just 0.6 mi from GVK One, Hyderabad's largest shopping mall\"], 'source': 'Booking.com'}, {'position': 8, 'title': 'hyderabad hotels', 'link': 'https://www.google.com/travel/hotels/hyderabad-hotels', 'redirect_link': 'https://www.google.com/url?sa=t&source=web&rct=j&opi=89978449&url=https://www.google.com/travel/hotels/hyderabad-hotels&ved=2ahUKEwihl9qAzvWNAxUo78kDHc6nEQUQFnoECCYQAQ', 'displayed_link': 'https://www.google.com › travel › hyderabad-hotels', 'thumbnail': 'https://encrypted-tbn0.gstatic.com/images?q=tbn:ANd9GcTF2w_5zp71f_e7ALZikIGOpylw5SbO7Ds1yIGiDKlN6PAFsLnHDSnINd0&usqp=CAE&s', 'favicon': 'https://serpapi.com/searches/684fe14cf7ae8de206998887/images/c744c0d06c77f2eeb8e5861a8a44a419e6771cc6b6a99ef624424631b23a2b8f.webp', 'snippet': 'Hyderabad Marriott Hotel & Convention Centre ... Sleek, modern rooms, some with lake views in an upscale hotel with 2 restaurants & an outdoor pool. Photo 1.', 'snippet_highlighted_words': ['Hyderabad Marriott Hotel & Convention Centre'], 'source': 'Google'}, {'position': 9, 'title': '11 Best Hotels in Hyderabad, India', 'link': 'https://www.agoda.com/city/hyderabad-in.html', 'redirect_link': 'https://www.google.com/url?sa=t&source=web&rct=j&opi=89978449&url=https://www.agoda.com/city/hyderabad-in.html&ved=2ahUKEwihl9qAzvWNAxUo78kDHc6nEQUQFnoECCoQAQ', 'displayed_link': 'https://www.agoda.com › ... › Telangana Hotels', 'thumbnail': 'https://encrypted-tbn0.gstatic.com/images?q=tbn:ANd9GcQvEKg5yW2w-gi2G9M0sEcP4KTvKgrocYbin3qm9aHmdmxtbpJxa6VQNyI&usqp=CAE&s', 'favicon': 'https://serpapi.com/searches/684fe14cf7ae8de206998887/images/c744c0d06c77f2eeb8e5861a8a44a419aa3f2518a52796736f3abe2a49bc53b1.webp', 'snippet': 'Find hotels in Hyderabad, India and explore top accommodation in the city. Check out star rating and review score before you book!', 'snippet_highlighted_words': ['Find hotels in Hyderabad, India'], 'sitelinks': {'inline': [{'title': 'Banjara Hills 621 hotels', 'link': 'https://www.agoda.com/banjara-hills/maps/hyderabad-in.html'}, {'title': 'Gachibowli', 'link': 'https://www.agoda.com/gachibowli/maps/hyderabad-in.html'}, {'title': 'Madhapur', 'link': 'https://www.agoda.com/madhapur/maps/hyderabad-in.html'}, {'title': 'Secunderabad', 'link': 'https://www.agoda.com/secunderabad/maps/hyderabad-in.html'}]}, 'source': 'Agoda.com'}], 'related_searches': [{'block_position': 1, 'items': [{'name': 'MakeMyTrip', 'image': 'https://encrypted-tbn0.gstatic.com/images?q=tbn:ANd9GcREtMnpmr7GQh6MfYVJIjPIPclC9StKgwfEm9ma&s=0', 'link': 'https://www.google.com/search?sca_esv=d216e087885b8f2a&q=MakeMyTrip&stick=H4sIAAAAAAAAAOMwVOLSz9U3MM5NLrdM-cXIsIGF4RULDxeS4CsWXi5uENfQoDC3uKrgFQsfF49-ur6hUV5ZQWF5TglCfXqhiZEBnJuVHR9vUQXnmlXlFBlkwLmVFVXJhkBZbi5OENfItLIg-xULPxcvyGjDNEPDgryKghS4vGVBpWHRIlYu38TsVN_KkKLMgltskgy7F3X8ZHHdb7jR0njjJrHH29l_uf-tTZuxchGHWEBqfkFOqkJiTnG-QnFqYlFyhkJaftEKDkYAYczPmPMAAAA&sa=X&ved=2ahUKEwihl9qAzvWNAxUo78kDHc6nEQUQs9oBKAB6BAgxEAo', 'serpapi_link': 'https://serpapi.com/search.json?device=desktop&engine=google&google_domain=google.com&q=MakeMyTrip&stick=H4sIAAAAAAAAAOMwVOLSz9U3MM5NLrdM-cXIsIGF4RULDxeS4CsWXi5uENfQoDC3uKrgFQsfF49-ur6hUV5ZQWF5TglCfXqhiZEBnJuVHR9vUQXnmlXlFBlkwLmVFVXJhkBZbi5OENfItLIg-xULPxcvyGjDNEPDgryKghS4vGVBpWHRIlYu38TsVN_KkKLMgltskgy7F3X8ZHHdb7jR0njjJrHH29l_uf-tTZuxchGHWEBqfkFOqkJiTnG-QnFqYlFyhkJaftEKDkYAYczPmPMAAAA'}, {'name': 'Airbnb', 'image': 'https://encrypted-tbn0.gstatic.com/images?q=tbn:ANd9GcT-nmlu3H7wakR0p22TPu1sZ2A7nAzeR5o9zOm4&s=0', 'link': 'https://www.google.com/search?sca_esv=d216e087885b8f2a&q=Airbnb&stick=H4sIAAAAAAAAAOMwVOLWz9U3MDQozC2uKvjFyLCBheEVCw8XF0jUODe53DLlFQsvF7KiVyx8XDz66fqGRnllBYXlOSUI9emFJkYGcG5Wdny8RRWca1aVU2SQAedWVlQlGwJlubk4QVwj08qC7Fcs_Fy8IKMN0wwNC_IqClLg8pYFlYZFi1jZHDOLkvKSbrFJMuxe1PGTxXW_4UZL442bxB5vZ__l_rc2bcbKRRxiAan5BTmpCok5xfkKxamJRckZCmn5RSs4GAFQo04F8AAAAA&sa=X&ved=2ahUKEwihl9qAzvWNAxUo78kDHc6nEQUQs9oBKAB6BAgxEA8', 'serpapi_link': 'https://serpapi.com/search.json?device=desktop&engine=google&google_domain=google.com&q=Airbnb&stick=H4sIAAAAAAAAAOMwVOLWz9U3MDQozC2uKvjFyLCBheEVCw8XF0jUODe53DLlFQsvF7KiVyx8XDz66fqGRnllBYXlOSUI9emFJkYGcG5Wdny8RRWca1aVU2SQAedWVlQlGwJlubk4QVwj08qC7Fcs_Fy8IKMN0wwNC_IqClLg8pYFlYZFi1jZHDOLkvKSbrFJMuxe1PGTxXW_4UZL442bxB5vZ__l_rc2bcbKRRxiAan5BTmpCok5xfkKxamJRckZCmn5RSs4GAFQo04F8AAAAA'}, {'name': 'Agoda', 'image': 'https://encrypted-tbn0.gstatic.com/images?q=tbn:ANd9GcRPVFqYLTUP49Jzfe-JXXd8ejWSN9-B3FVw00AS&s=0', 'link': 'https://www.google.com/search?sca_esv=d216e087885b8f2a&q=Agoda&stick=H4sIAAAAAAAAAOMwVOLRT9c3NMorKygszyn5xciwgYXhFQsPF5d-rr6BcW5yuWXKKxZeLm4Q19CgMLe4quAVCx8Xii6E-vRCEyMDODcrOz7eogrONavKKTLIgHMrK6qSDYGy3FycIK6RaWVB9isWfi5ekNGGaYaGBXkVBSlwecuCSsOiRaysjun5KYm32CQZdi_q-Mniut9wo6Xxxk1ij7ez_3L_W5s2Y-UiDrGA1PyCnFSFxJzifIXi1MSi5AyFtPyiFRyMAD9pPxfwAAAA&sa=X&ved=2ahUKEwihl9qAzvWNAxUo78kDHc6nEQUQs9oBKAB6BAgxEBQ', 'serpapi_link': 'https://serpapi.com/search.json?device=desktop&engine=google&google_domain=google.com&q=Agoda&stick=H4sIAAAAAAAAAOMwVOLRT9c3NMorKygszyn5xciwgYXhFQsPF5d-rr6BcW5yuWXKKxZeLm4Q19CgMLe4quAVCx8Xii6E-vRCEyMDODcrOz7eogrONavKKTLIgHMrK6qSDYGy3FycIK6RaWVB9isWfi5ekNGGaYaGBXkVBSlwecuCSsOiRaysjun5KYm32CQZdi_q-Mniut9wo6Xxxk1ij7ez_3L_W5s2Y-UiDrGA1PyCnFSFxJzifIXi1MSi5AyFtPyiFRyMAD9pPxfwAAAA'}, {'name': 'Expedia Group', 'image': 'https://encrypted-tbn0.gstatic.com/images?q=tbn:ANd9GcTjE4j_xqfkUevsbZc1t1OoF4iCBNegLzm4oxhB&s=0', 'link': 'https://www.google.com/search?sca_esv=d216e087885b8f2a&q=Expedia+Group&stick=H4sIAAAAAAAAAOMwVOLSz9U3ME4vNDEy-MXIsIGF4RULDxdEMDe53DLlFQsvFzeIa2hQmFtcVfCKhY-LRz9d39Aor6ygsDynBKEebAicm5UdH29RBeeaVeUUGWTAuZUVVcmGQFluLk4Q18i0siD7FQs_Fy_IaMM0Q8OCvIqCFLi8ZUGlYdEiVl7XioLUlMxEBfei_NKCW2ySDLsXdfxkcd1vuNHSeOMmscfb2X-5_61Nm7FyEYdYQGp-QU6qQmJOcb5CcWpiUXKGQlp-0QoORgDYnDJK9gAAAA&sa=X&ved=2ahUKEwihl9qAzvWNAxUo78kDHc6nEQUQs9oBKAB6BAgxEBk', 'serpapi_link': 'https://serpapi.com/search.json?device=desktop&engine=google&google_domain=google.com&q=Expedia+Group&stick=H4sIAAAAAAAAAOMwVOLSz9U3ME4vNDEy-MXIsIGF4RULDxdEMDe53DLlFQsvFzeIa2hQmFtcVfCKhY-LRz9d39Aor6ygsDynBKEebAicm5UdH29RBeeaVeUUGWTAuZUVVcmGQFluLk4Q18i0siD7FQs_Fy_IaMM0Q8OCvIqCFLi8ZUGlYdEiVl7XioLUlMxEBfei_NKCW2ySDLsXdfxkcd1vuNHSeOMmscfb2X-5_61Nm7FyEYdYQGp-QU6qQmJOcb5CcWpiUXKGQlp-0QoORgDYnDJK9gAAAA'}, {'name': 'Yatra', 'image': 'https://encrypted-tbn0.gstatic.com/images?q=tbn:ANd9GcTxtzduXoT1tUa4VB9y-V0sxkr2vBkyxyAFwPlI&s=0', 'link': 'https://www.google.com/search?sca_esv=d216e087885b8f2a&q=Yatra&stick=H4sIAAAAAAAAAOMwVOLSz9U3yMqOj7eo-sXIsIGF4RULDxdY0Dg3udwy5RULLxc3iGtoUJhbXFXwioWPi0c_Xd_QKK-soLA8pwShPr3QxMgAzoWYCeeaVeUUGWTAuZUVVcmGQFluLk4Q18i0siD7FQs_Fy_IaMM0Q8OCvIqCFLi8ZUGlYdEiVtbIxJKixFtskgy7F3X8ZHHdb7jR0njjJrHH29l_uf-tTZuxchGHWEBqfkFOqkJiTnG-QnFqYlFyhkJaftEKDkYAwBBxru4AAAA&sa=X&ved=2ahUKEwihl9qAzvWNAxUo78kDHc6nEQUQs9oBKAB6BAgxEB4', 'serpapi_link': 'https://serpapi.com/search.json?device=desktop&engine=google&google_domain=google.com&q=Yatra&stick=H4sIAAAAAAAAAOMwVOLSz9U3yMqOj7eo-sXIsIGF4RULDxdY0Dg3udwy5RULLxc3iGtoUJhbXFXwioWPi0c_Xd_QKK-soLA8pwShPr3QxMgAzoWYCeeaVeUUGWTAuZUVVcmGQFluLk4Q18i0siD7FQs_Fy_IaMM0Q8OCvIqCFLi8ZUGlYdEiVtbIxJKixFtskgy7F3X8ZHHdb7jR0njjJrHH29l_uf-tTZuxchGHWEBqfkFOqkJiTnG-QnFqYlFyhkJaftEKDkYAwBBxru4AAAA'}, {'name': 'Cleartrip', 'image': 'https://encrypted-tbn0.gstatic.com/images?q=tbn:ANd9GcSpXJT9xP1C3MeRlHrQoGQfqnH_gKbXB5nJJbFl&s=0', 'link': 'https://www.google.com/search?sca_esv=d216e087885b8f2a&q=Cleartrip&stick=H4sIAAAAAAAAAOMwVOLSz9U3MKvKKTLI-MXIsIGF4RULDxdY0Dg3udwy5RULLxc3iGtoUJhbXFXwioWPi0c_Xd_QKK-soLA8pwShPr3QxMgAzs3Kjo-3qIJzIVbAuZUVVcmGQFluLk4Q18i0siD7FQs_Fy_IaMM0Q8OCvIqCFLi8ZUGlYdEiVk7nnNTEopKizIJbbJIMuxd1_GRx3W-40dJ44yaxx9vZf7n_rU2bsXIRh1hAan5BTqpCYk5xvkIxUEtyhkJaftEKDkYA-2o1_vIAAAA&sa=X&ved=2ahUKEwihl9qAzvWNAxUo78kDHc6nEQUQs9oBKAB6BAgxECM', 'serpapi_link': 'https://serpapi.com/search.json?device=desktop&engine=google&google_domain=google.com&q=Cleartrip&stick=H4sIAAAAAAAAAOMwVOLSz9U3MKvKKTLI-MXIsIGF4RULDxdY0Dg3udwy5RULLxc3iGtoUJhbXFXwioWPi0c_Xd_QKK-soLA8pwShPr3QxMgAzs3Kjo-3qIJzIVbAuZUVVcmGQFluLk4Q18i0siD7FQs_Fy_IaMM0Q8OCvIqCFLi8ZUGlYdEiVk7nnNTEopKizIJbbJIMuxd1_GRx3W-40dJ44yaxx9vZf7n_rU2bsXIRh1hAan5BTqpCYk5xvkIxUEtyhkJaftEKDkYA-2o1_vIAAAA'}]}, {'block_position': 1, 'query': '5 star hotels in hyderabad', 'link': 'https://www.google.com/search?sca_esv=d216e087885b8f2a&q=5+star+hotels+in+hyderabad&sa=X&ved=2ahUKEwihl9qAzvWNAxUo78kDHc6nEQUQ1QJ6BAhKEAE', 'serpapi_link': 'https://serpapi.com/search.json?device=desktop&engine=google&google_domain=google.com&q=5+star+hotels+in+hyderabad'}, {'block_position': 1, 'query': 'Best hotels in hyderabad', 'link': 'https://www.google.com/search?sca_esv=d216e087885b8f2a&q=Best+hotels+in+hyderabad&sa=X&ved=2ahUKEwihl9qAzvWNAxUo78kDHc6nEQUQ1QJ6BAhFEAE', 'serpapi_link': 'https://serpapi.com/search.json?device=desktop&engine=google&google_domain=google.com&q=Best+hotels+in+hyderabad'}, {'block_position': 1, 'query': 'Hotels in hyderabad for couples', 'link': 'https://www.google.com/search?sca_esv=d216e087885b8f2a&q=Hotels+in+hyderabad+for+couples&sa=X&ved=2ahUKEwihl9qAzvWNAxUo78kDHc6nEQUQ1QJ6BAhgEAE', 'serpapi_link': 'https://serpapi.com/search.json?device=desktop&engine=google&google_domain=google.com&q=Hotels+in+hyderabad+for+couples'}, {'block_position': 1, 'query': 'Hotels in Hyderabad near Airport', 'link': 'https://www.google.com/search?sca_esv=d216e087885b8f2a&q=Hotels+in+Hyderabad+near+Airport&sa=X&ved=2ahUKEwihl9qAzvWNAxUo78kDHc6nEQUQ1QJ6BAhIEAE', 'serpapi_link': 'https://serpapi.com/search.json?device=desktop&engine=google&google_domain=google.com&q=Hotels+in+Hyderabad+near+Airport'}, {'block_position': 1, 'query': 'Cheap hotels in hyderabad', 'link': 'https://www.google.com/search?sca_esv=d216e087885b8f2a&q=Cheap+hotels+in+hyderabad&sa=X&ved=2ahUKEwihl9qAzvWNAxUo78kDHc6nEQUQ1QJ6BAhJEAE', 'serpapi_link': 'https://serpapi.com/search.json?device=desktop&engine=google&google_domain=google.com&q=Cheap+hotels+in+hyderabad'}, {'block_position': 1, 'query': 'Luxury hotels in hyderabad', 'link': 'https://www.google.com/search?sca_esv=d216e087885b8f2a&q=Luxury+hotels+in+hyderabad&sa=X&ved=2ahUKEwihl9qAzvWNAxUo78kDHc6nEQUQ1QJ6BAhfEAE', 'serpapi_link': 'https://serpapi.com/search.json?device=desktop&engine=google&google_domain=google.com&q=Luxury+hotels+in+hyderabad'}, {'block_position': 1, 'query': 'Hotels in Hyderabad near US Consulate', 'link': 'https://www.google.com/search?sca_esv=d216e087885b8f2a&q=Hotels+in+Hyderabad+near+US+Consulate&sa=X&ved=2ahUKEwihl9qAzvWNAxUo78kDHc6nEQUQ1QJ6BAhGEAE', 'serpapi_link': 'https://serpapi.com/search.json?device=desktop&engine=google&google_domain=google.com&q=Hotels+in+Hyderabad+near+US+Consulate'}, {'block_position': 1, 'query': 'Hotels in Hyderabad Gachibowli', 'link': 'https://www.google.com/search?sca_esv=d216e087885b8f2a&q=Hotels+in+Hyderabad+Gachibowli&sa=X&ved=2ahUKEwihl9qAzvWNAxUo78kDHc6nEQUQ1QJ6BAhEEAE', 'serpapi_link': 'https://serpapi.com/search.json?device=desktop&engine=google&google_domain=google.com&q=Hotels+in+Hyderabad+Gachibowli'}], 'pagination': {'current': 1, 'next': 'https://www.google.com/search?q=hotels+in+hyderabad&sca_esv=d216e087885b8f2a&ei=VeFPaOGYLajep84Pzs_GKA&start=10&sa=N&sstk=Ac65TH5bO5weYS2Nppp8ry8fAzKq7Muoc9bSj-DTQbAA7J-KLYPj1ta905vWtGO2G-2sFe-AqhXRmF-DP4tje9LDGEEUmH2nYkuHFA&ved=2ahUKEwihl9qAzvWNAxUo78kDHc6nEQUQ8NMDegQIChAW', 'other_pages': {'2': 'https://www.google.com/search?q=hotels+in+hyderabad&sca_esv=d216e087885b8f2a&ei=VeFPaOGYLajep84Pzs_GKA&start=10&sa=N&sstk=Ac65TH5bO5weYS2Nppp8ry8fAzKq7Muoc9bSj-DTQbAA7J-KLYPj1ta905vWtGO2G-2sFe-AqhXRmF-DP4tje9LDGEEUmH2nYkuHFA&ved=2ahUKEwihl9qAzvWNAxUo78kDHc6nEQUQ8tMDegQIChAE', '3': 'https://www.google.com/search?q=hotels+in+hyderabad&sca_esv=d216e087885b8f2a&ei=VeFPaOGYLajep84Pzs_GKA&start=20&sa=N&sstk=Ac65TH5bO5weYS2Nppp8ry8fAzKq7Muoc9bSj-DTQbAA7J-KLYPj1ta905vWtGO2G-2sFe-AqhXRmF-DP4tje9LDGEEUmH2nYkuHFA&ved=2ahUKEwihl9qAzvWNAxUo78kDHc6nEQUQ8tMDegQIChAG', '4': 'https://www.google.com/search?q=hotels+in+hyderabad&sca_esv=d216e087885b8f2a&ei=VeFPaOGYLajep84Pzs_GKA&start=30&sa=N&sstk=Ac65TH5bO5weYS2Nppp8ry8fAzKq7Muoc9bSj-DTQbAA7J-KLYPj1ta905vWtGO2G-2sFe-AqhXRmF-DP4tje9LDGEEUmH2nYkuHFA&ved=2ahUKEwihl9qAzvWNAxUo78kDHc6nEQUQ8tMDegQIChAI', '5': 'https://www.google.com/search?q=hotels+in+hyderabad&sca_esv=d216e087885b8f2a&ei=VeFPaOGYLajep84Pzs_GKA&start=40&sa=N&sstk=Ac65TH5bO5weYS2Nppp8ry8fAzKq7Muoc9bSj-DTQbAA7J-KLYPj1ta905vWtGO2G-2sFe-AqhXRmF-DP4tje9LDGEEUmH2nYkuHFA&ved=2ahUKEwihl9qAzvWNAxUo78kDHc6nEQUQ8tMDegQIChAK', '6': 'https://www.google.com/search?q=hotels+in+hyderabad&sca_esv=d216e087885b8f2a&ei=VeFPaOGYLajep84Pzs_GKA&start=50&sa=N&sstk=Ac65TH5bO5weYS2Nppp8ry8fAzKq7Muoc9bSj-DTQbAA7J-KLYPj1ta905vWtGO2G-2sFe-AqhXRmF-DP4tje9LDGEEUmH2nYkuHFA&ved=2ahUKEwihl9qAzvWNAxUo78kDHc6nEQUQ8tMDegQIChAM', '7': 'https://www.google.com/search?q=hotels+in+hyderabad&sca_esv=d216e087885b8f2a&ei=VeFPaOGYLajep84Pzs_GKA&start=60&sa=N&sstk=Ac65TH5bO5weYS2Nppp8ry8fAzKq7Muoc9bSj-DTQbAA7J-KLYPj1ta905vWtGO2G-2sFe-AqhXRmF-DP4tje9LDGEEUmH2nYkuHFA&ved=2ahUKEwihl9qAzvWNAxUo78kDHc6nEQUQ8tMDegQIChAO', '8': 'https://www.google.com/search?q=hotels+in+hyderabad&sca_esv=d216e087885b8f2a&ei=VeFPaOGYLajep84Pzs_GKA&start=70&sa=N&sstk=Ac65TH5bO5weYS2Nppp8ry8fAzKq7Muoc9bSj-DTQbAA7J-KLYPj1ta905vWtGO2G-2sFe-AqhXRmF-DP4tje9LDGEEUmH2nYkuHFA&ved=2ahUKEwihl9qAzvWNAxUo78kDHc6nEQUQ8tMDegQIChAQ', '9': 'https://www.google.com/search?q=hotels+in+hyderabad&sca_esv=d216e087885b8f2a&ei=VeFPaOGYLajep84Pzs_GKA&start=80&sa=N&sstk=Ac65TH5bO5weYS2Nppp8ry8fAzKq7Muoc9bSj-DTQbAA7J-KLYPj1ta905vWtGO2G-2sFe-AqhXRmF-DP4tje9LDGEEUmH2nYkuHFA&ved=2ahUKEwihl9qAzvWNAxUo78kDHc6nEQUQ8tMDegQIChAS', '10': 'https://www.google.com/search?q=hotels+in+hyderabad&sca_esv=d216e087885b8f2a&ei=VeFPaOGYLajep84Pzs_GKA&start=90&sa=N&sstk=Ac65TH5bO5weYS2Nppp8ry8fAzKq7Muoc9bSj-DTQbAA7J-KLYPj1ta905vWtGO2G-2sFe-AqhXRmF-DP4tje9LDGEEUmH2nYkuHFA&ved=2ahUKEwihl9qAzvWNAxUo78kDHc6nEQUQ8tMDegQIChAU'}}, 'serpapi_pagination': {'current': 1, 'next_link': 'https://serpapi.com/search.json?device=desktop&engine=google&google_domain=google.com&q=hotels+in+hyderabad&start=10', 'next': 'https://serpapi.com/search.json?device=desktop&engine=google&google_domain=google.com&q=hotels+in+hyderabad&start=10', 'other_pages': {'2': 'https://serpapi.com/search.json?device=desktop&engine=google&google_domain=google.com&q=hotels+in+hyderabad&start=10', '3': 'https://serpapi.com/search.json?device=desktop&engine=google&google_domain=google.com&q=hotels+in+hyderabad&start=20', '4': 'https://serpapi.com/search.json?device=desktop&engine=google&google_domain=google.com&q=hotels+in+hyderabad&start=30', '5': 'https://serpapi.com/search.json?device=desktop&engine=google&google_domain=google.com&q=hotels+in+hyderabad&start=40', '6': 'https://serpapi.com/search.json?device=desktop&engine=google&google_domain=google.com&q=hotels+in+hyderabad&start=50', '7': 'https://serpapi.com/search.json?device=desktop&engine=google&google_domain=google.com&q=hotels+in+hyderabad&start=60', '8': 'https://serpapi.com/search.json?device=desktop&engine=google&google_domain=google.com&q=hotels+in+hyderabad&start=70', '9': 'https://serpapi.com/search.json?device=desktop&engine=google&google_domain=google.com&q=hotels+in+hyderabad&start=80', '10': 'https://serpapi.com/search.json?device=desktop&engine=google&google_domain=google.com&q=hotels+in+hyderabad&start=90'}}}\n",
      "63.9\n",
      "Medium Budget\n"
     ]
    }
   ],
   "source": [
    "hotels = search_hotels.run(\"hyderabad\")\n",
    "\n",
    "estimate_price = estimate_average_cost.run({\"hotels\": hotels})\n",
    "\n",
    "print(estimate_price)\n",
    "\n",
    "budget_range = get_budget_range.run({\"avg_cost\": estimate_price})\n",
    "print(budget_range)\n"
   ]
  },
  {
   "cell_type": "code",
   "execution_count": 35,
   "id": "f8529ae4",
   "metadata": {},
   "outputs": [],
   "source": [
    "\n",
    "\n",
    "@tool\n",
    "def calculate_hotel_cost(days: int, price_per_day: float) -> str:\n",
    "    \"\"\"\n",
    "    Calculates the total cost of a hotel stay.\n",
    "\n",
    "    Args:\n",
    "        days (int): Number of days stayed.\n",
    "        price_per_day (float): Price per day in currency units.\n",
    "\n",
    "    Returns:\n",
    "        str: A message indicating the total cost.\n",
    "    \"\"\"\n",
    "    if days < 0 or price_per_day < 0:\n",
    "        return \"Invalid input: days and price must be non-negative.\"\n",
    "\n",
    "    total = days * price_per_day\n",
    "    return f\"The total cost for {days} day(s) at ${price_per_day} per day is ${total} .\""
   ]
  },
  {
   "cell_type": "code",
   "execution_count": 36,
   "id": "c46dd04a",
   "metadata": {},
   "outputs": [
    {
     "name": "stdout",
     "output_type": "stream",
     "text": [
      "The total cost for 10 day(s) at $50.2 per day is $502.0 .\n"
     ]
    }
   ],
   "source": [
    "output = calculate_hotel_cost.run({\"days\": 10, \"price_per_day\": 50.2})\n",
    "print(output)"
   ]
  },
  {
   "cell_type": "code",
   "execution_count": 74,
   "id": "1d6b0492",
   "metadata": {},
   "outputs": [],
   "source": [
    "import yfinance as yf\n",
    "\n",
    "@tool\n",
    "def get_exchange_rate() -> float:\n",
    "    \"\"\"\n",
    "    Gets the current USD to INR exchange rate using Yahoo Finance.\n",
    "    Returns:\n",
    "        float: The exchange rate from USD to INR.\n",
    "    \"\"\"\n",
    "    ticker = yf.Ticker(\"USDINR=X\")\n",
    "    data = ticker.history(period=\"1d\")\n",
    "    \n",
    "    if data.empty:\n",
    "        raise ValueError(\"No data received from Yahoo Finance.\")\n",
    "    \n",
    "    # Get the latest closing price\n",
    "    rate = data[\"Close\"].iloc[-1]\n",
    "    return round(rate, 4)\n",
    "\n",
    "@tool\n",
    "def convert_currency(amount_in_usd: float) -> float:\n",
    "    \"\"\"\n",
    "    Converts a given amount in USD to INR using the current exchange rate.\n",
    "\n",
    "    Args:\n",
    "        amount_in_usd (float): The amount in USD to be converted.\n",
    "\n",
    "    Returns:\n",
    "        float: The converted amount in INR.\n",
    "    \"\"\"\n",
    "    rate = get_exchange_rate.invoke({})\n",
    "    return round(amount_in_usd * rate, 2)"
   ]
  },
  {
   "cell_type": "code",
   "execution_count": 76,
   "id": "fd6444f4",
   "metadata": {},
   "outputs": [
    {
     "data": {
      "text/plain": [
       "np.float64(86052.5)"
      ]
     },
     "execution_count": 76,
     "metadata": {},
     "output_type": "execute_result"
    }
   ],
   "source": [
    "convert_currency.invoke({\"amount_in_usd\": 1000.00})"
   ]
  },
  {
   "cell_type": "code",
   "execution_count": 77,
   "id": "4fe4f8cb",
   "metadata": {},
   "outputs": [],
   "source": [
    "tools=[convert_currency, calculate_hotel_cost, search_hotels, estimate_average_cost,get_budget_range,search_for_attraction,get_current_weather,get_weather_forecast]\n"
   ]
  },
  {
   "cell_type": "code",
   "execution_count": 78,
   "id": "19bd00a6",
   "metadata": {},
   "outputs": [],
   "source": [
    "llm_with_tools=llm.bind_tools(tools)\n"
   ]
  },
  {
   "cell_type": "code",
   "execution_count": 84,
   "id": "51ed3a44",
   "metadata": {},
   "outputs": [],
   "source": [
    "response=llm_with_tools.invoke(\"weather in pune\")"
   ]
  },
  {
   "cell_type": "code",
   "execution_count": 85,
   "id": "5eebd212",
   "metadata": {},
   "outputs": [
    {
     "data": {
      "text/plain": [
       "[{'name': 'get_current_weather',\n",
       "  'args': {'location': 'Pune'},\n",
       "  'id': 'vvrmwxvyz',\n",
       "  'type': 'tool_call'}]"
      ]
     },
     "execution_count": 85,
     "metadata": {},
     "output_type": "execute_result"
    }
   ],
   "source": [
    "response.tool_calls"
   ]
  },
  {
   "cell_type": "code",
   "execution_count": 87,
   "id": "6aea573d",
   "metadata": {},
   "outputs": [],
   "source": [
    "SYSTEM_PROMPT = \"\"\"\n",
    "You are a smart and helpful travel assistant. Given a city name and the number of days of stay, assist the user with detailed travel planning by performing the following tasks step-by-step:\n",
    "\n",
    "---\n",
    "\n",
    "**Inputs**\n",
    "- City: {{city_name}}\n",
    "- Number of Days: {{number_of_days}}\n",
    "\n",
    "---\n",
    "\n",
    "**Step 1: Explore Local Options**\n",
    "For the specified city, provide:\n",
    "1. Top tourist attractions to visit.\n",
    "2. Recommended restaurants with local or popular cuisine.\n",
    "3. Culturally relevant or fun activities.\n",
    "4. Local transportation options (e.g., metro, taxi, bike rentals, etc.).\n",
    "\n",
    "---\n",
    "\n",
    "**Step 2: Weather Forecast**\n",
    "- Current weather conditions in the city.\n",
    "- 5-day weather forecast (if the stay is longer than 1 day).\n",
    "\n",
    "---\n",
    "\n",
    "**Step 3: Hotel Estimation**\n",
    "1. Find suitable hotels based on ratings and central location.\n",
    "2. Estimate the average cost per night.\n",
    "3. Classify the hotel as high-budget or low-budget based on pricing.\n",
    "\n",
    "---\n",
    "\n",
    "**Step 4: Calculate Trip Budget**\n",
    "- Multiply the hotel cost per night by the number of stay days.\n",
    "- Add estimated daily expenses for food, activities, and transportation.\n",
    "- Return the total estimated budget in USD.\n",
    "\n",
    "---\n",
    "\n",
    "**Step 5: Currency Conversion**\n",
    "- Convert the total USD budget to INR using the current exchange rate.\n",
    "\n",
    "---\n",
    "\n",
    "**Step 6: Final Summary**\n",
    "Provide a comprehensive summary including:\n",
    "- Attractions, restaurants, activities, and transport options.\n",
    "- Weather overview during the stay.\n",
    "- Hotel details and budget classification.\n",
    "- Total estimated cost in both USD and INR.\n",
    "- Additional travel tips based on local customs or seasonal factors.\n",
    "\"\"\""
   ]
  },
  {
   "cell_type": "code",
   "execution_count": 88,
   "id": "c0f6f6bf",
   "metadata": {},
   "outputs": [],
   "source": [
    "user_query=[\"tell me tour plan for singapore for 5 days of itenery in medium budget\"]"
   ]
  },
  {
   "cell_type": "code",
   "execution_count": 89,
   "id": "1b54a85b",
   "metadata": {},
   "outputs": [
    {
     "data": {
      "text/plain": [
       "['\\nYou are a smart and helpful travel assistant. Given a city name and the number of days of stay, assist the user with detailed travel planning by performing the following tasks step-by-step:\\n\\n---\\n\\n**Inputs**\\n- City: {{city_name}}\\n- Number of Days: {{number_of_days}}\\n\\n---\\n\\n**Step 1: Explore Local Options**\\nFor the specified city, provide:\\n1. Top tourist attractions to visit.\\n2. Recommended restaurants with local or popular cuisine.\\n3. Culturally relevant or fun activities.\\n4. Local transportation options (e.g., metro, taxi, bike rentals, etc.).\\n\\n---\\n\\n**Step 2: Weather Forecast**\\n- Current weather conditions in the city.\\n- 5-day weather forecast (if the stay is longer than 1 day).\\n\\n---\\n\\n**Step 3: Hotel Estimation**\\n1. Find suitable hotels based on ratings and central location.\\n2. Estimate the average cost per night.\\n3. Classify the hotel as high-budget or low-budget based on pricing.\\n\\n---\\n\\n**Step 4: Calculate Trip Budget**\\n- Multiply the hotel cost per night by the number of stay days.\\n- Add estimated daily expenses for food, activities, and transportation.\\n- Return the total estimated budget in USD.\\n\\n---\\n\\n**Step 5: Currency Conversion**\\n- Convert the total USD budget to INR using the current exchange rate.\\n\\n---\\n\\n**Step 6: Final Summary**\\nProvide a comprehensive summary including:\\n- Attractions, restaurants, activities, and transport options.\\n- Weather overview during the stay.\\n- Hotel details and budget classification.\\n- Total estimated cost in both USD and INR.\\n- Additional travel tips based on local customs or seasonal factors.\\n',\n",
       " 'tell me tour plan for singapore for 5 days of itenery in medium budget']"
      ]
     },
     "execution_count": 89,
     "metadata": {},
     "output_type": "execute_result"
    }
   ],
   "source": [
    "[SYSTEM_PROMPT]+user_query"
   ]
  },
  {
   "cell_type": "code",
   "execution_count": 92,
   "id": "525547eb",
   "metadata": {},
   "outputs": [],
   "source": [
    "from langchain_core.messages import HumanMessage, AIMessage\n",
    "from langgraph.graph import StateGraph,MessagesState,START,END\n",
    "from langgraph.prebuilt import ToolNode\n",
    "\n",
    "def function_1(state:MessagesState):\n",
    "    \n",
    "    user_question=state[\"messages\"]\n",
    "    \n",
    "    input_question = [SYSTEM_PROMPT]+user_question\n",
    "    \n",
    "    response = llm_with_tools.invoke(input_question)\n",
    "    \n",
    "    return {\n",
    "        \"messages\":[response]\n",
    "    }"
   ]
  },
  {
   "cell_type": "code",
   "execution_count": 95,
   "id": "bc0a150d",
   "metadata": {},
   "outputs": [
    {
     "data": {
      "text/plain": [
       "<langgraph.graph.state.StateGraph at 0x177f03c50>"
      ]
     },
     "execution_count": 95,
     "metadata": {},
     "output_type": "execute_result"
    }
   ],
   "source": [
    "from langgraph.prebuilt import ToolNode\n",
    "\n",
    "builder=StateGraph(MessagesState)\n",
    "builder.add_node(\"llm_decision_step\",function_1)\n",
    "builder.add_node(\"tools\",ToolNode(tools))\n",
    "\n",
    "builder.add_edge(START,\"llm_decision_step\")\n",
    "\n",
    "from langgraph.prebuilt import tools_condition\n",
    "builder.add_conditional_edges(\n",
    "    \"llm_decision_step\",\n",
    "    tools_condition,\n",
    ")"
   ]
  },
  {
   "cell_type": "code",
   "execution_count": 97,
   "id": "c52c1646",
   "metadata": {},
   "outputs": [],
   "source": [
    "builder.add_edge(\"tools\",\"llm_decision_step\")\n",
    "\n",
    "react_graph=builder.compile()\n",
    "\n"
   ]
  },
  {
   "cell_type": "code",
   "execution_count": 98,
   "id": "f81f041e",
   "metadata": {},
   "outputs": [
    {
     "data": {
      "image/png": "[encoded data removed]",
      "text/plain": [
       "<IPython.core.display.Image object>"
      ]
     },
     "metadata": {},
     "output_type": "display_data"
    }
   ],
   "source": [
    "from IPython.display import Image, display\n",
    "display(Image(react_graph.get_graph().draw_mermaid_png()))"
   ]
  },
  {
   "cell_type": "code",
   "execution_count": 115,
   "id": "b56dea58",
   "metadata": {},
   "outputs": [],
   "source": [
    "message=[HumanMessage(content=\"tell me tour plan for singapore for 3 days of itenery in high budget\")]\n"
   ]
  },
  {
   "cell_type": "code",
   "execution_count": 118,
   "id": "098048bc",
   "metadata": {},
   "outputs": [
    {
     "name": "stdout",
     "output_type": "stream",
     "text": [
      "{'messages': [HumanMessage(content='tell me tour plan for singapore for 3 days of itenery in high budget', additional_kwargs={}, response_metadata={}, id='33caca85-fbdd-4737-b823-ea5f36842328'), AIMessage(content=\"Here's a detailed 3-day high-budget tour plan for Singapore:\\n\\n---\\n\\n### **Day 1: Arrival & Exploring Iconic Landmarks**\\n\\n**Morning:**\\n- **Arrival & Check-In:** Arrive in Singapore and check into a luxurious hotel like the Marina Bay Sands or Raffles Hotel Singapore.\\n- **Breakfast:** Enjoy a gourmet breakfast at your hotel or head to a renowned café like Tiong Bahru Bakery.\\n\\n**Afternoon:**\\n- **Visit Gardens by the Bay:** Explore the stunning Supertree Grove and the cooled conservatories, Cloud Forest and Flower Dome.\\n- **Lunch:** Dine at Lau Pa Sat, a historic hawker center offering a variety of local delicacies.\\n\\n**Evening:**\\n- **Marina Bay Sands SkyPark:** Take in breathtaking views of the city skyline from the observation deck.\\n- **Dinner:** Experience fine dining at LAVO Italian Restaurant & Rooftop Bar, enjoying Italian cuisine with a view.\\n\\n**Night:**\\n- **Night Safari:** Embark on a unique wildlife adventure at the world's first nocturnal wildlife park.\\n\\n---\\n\\n### **Day 2: Cultural Immersion & Relaxation**\\n\\n**Morning:**\\n- **Breakfast:** Start your day with a hearty meal at your hotel or a local eatery.\\n- **Chinatown & Little India:** Explore the vibrant cultures, temples, and street markets in these historic districts.\\n\\n**Afternoon:**\\n- **Lunch:** Savor authentic Peranakan cuisine at Blue Ginger or another traditional restaurant.\\n- **Visit Sentosa Island:** Head to Universal Studios Singapore for thrilling rides and attractions.\\n\\n**Evening:**\\n- **Dinner:** Enjoy a seafood feast at The Crab Factory or another beachside restaurant on Sentosa.\\n- **Evening at Siloso Beach:** Relax and enjoy the sunset with a refreshing cocktail.\\n\\n**Night:**\\n- **Casino Night:** Try your luck at the Marina Bay Sands Casino or unwind at a rooftop bar.\\n\\n---\\n\\n### **Day 3: Adventure & Nature**\\n\\n**Morning:**\\n- **Breakfast:** Have a leisurely breakfast at your hotel or a trendy café.\\n- **Singapore Zoo:** Spend the morning exploring the rainforest and spotting exotic wildlife.\\n\\n**Afternoon:**\\n- **Lunch:** Dine at The Rainforest Kidzworld for a family-friendly meal or head back to the city for a gourmet lunch.\\n- **Adventure at Sentosa:** Experience the Mega Adventure Park or take a skyride for panoramic views.\\n\\n**Evening:**\\n- **Dinner:** Enjoy a farewell dinner at a Michelin-starred restaurant like Joël Robuchon or L’Atelier de Joël Robuchon.\\n- **Night Walk:** Take a leisurely stroll along the Singapore River or Clarke Quay, soaking in the city's vibrant nightlife.\\n\\n**Night:**\\n- **Departure Preparation:** Relax at your hotel or enjoy a nightcap at the bar before your departure.\\n\\n---\\n\\n### **Budget Summary:**\\n\\n- **Hotel Cost:** SGD 1,500 (approximately USD 1,100) for 3 nights at a luxury hotel.\\n- **Food & Dining:** SGD 800 (approximately USD 580) for meals at high-end restaurants.\\n- **Attractions & Activities:** SGD 500 (approximately USD 360) for entry fees and experiences.\\n- **Transportation:** SGD 200 (approximately USD 145) for taxis and private transfers.\\n- **Total Estimated Budget:** SGD 2,000 (approximately USD 1,450).\\n\\n---\\n\\n### **Additional Tips:**\\n\\n- **Weather:** Singapore has a tropical climate; pack light clothing and stay hydrated.\\n- **Transportation:** Consider purchasing a Singapore Tourist Pass for convenient travel on public transport.\\n- **Local Customs:** Respect cultural norms when visiting temples or mosques; dress modestly.\\n\\n---\\n\\nThis itinerary offers a mix of luxury, culture, and adventure, ensuring a memorable trip to Singapore!\", additional_kwargs={}, response_metadata={'token_usage': {'completion_tokens': 1107, 'prompt_tokens': 929, 'total_tokens': 2036, 'completion_time': 4.025454545, 'prompt_time': 0.067921774, 'queue_time': 0.20520918, 'total_time': 4.093376319}, 'model_name': 'deepseek-r1-distill-llama-70b', 'system_fingerprint': 'fp_1bbe7845ec', 'finish_reason': 'stop', 'logprobs': None}, id='run--3292e6ed-cb78-4a05-926e-ded477c4734b-0', usage_metadata={'input_tokens': 929, 'output_tokens': 1107, 'total_tokens': 2036})]}\n"
     ]
    }
   ],
   "source": [
    "output = react_graph.invoke({\"messages\":message})\n",
    "print(output)\n"
   ]
  },
  {
   "cell_type": "code",
   "execution_count": 119,
   "id": "99819a6f",
   "metadata": {},
   "outputs": [
    {
     "name": "stdout",
     "output_type": "stream",
     "text": [
      "Here's a detailed 3-day high-budget tour plan for Singapore:\n",
      "\n",
      "---\n",
      "\n",
      "### **Day 1: Arrival & Exploring Iconic Landmarks**\n",
      "\n",
      "**Morning:**\n",
      "- **Arrival & Check-In:** Arrive in Singapore and check into a luxurious hotel like the Marina Bay Sands or Raffles Hotel Singapore.\n",
      "- **Breakfast:** Enjoy a gourmet breakfast at your hotel or head to a renowned café like Tiong Bahru Bakery.\n",
      "\n",
      "**Afternoon:**\n",
      "- **Visit Gardens by the Bay:** Explore the stunning Supertree Grove and the cooled conservatories, Cloud Forest and Flower Dome.\n",
      "- **Lunch:** Dine at Lau Pa Sat, a historic hawker center offering a variety of local delicacies.\n",
      "\n",
      "**Evening:**\n",
      "- **Marina Bay Sands SkyPark:** Take in breathtaking views of the city skyline from the observation deck.\n",
      "- **Dinner:** Experience fine dining at LAVO Italian Restaurant & Rooftop Bar, enjoying Italian cuisine with a view.\n",
      "\n",
      "**Night:**\n",
      "- **Night Safari:** Embark on a unique wildlife adventure at the world's first nocturnal wildlife park.\n",
      "\n",
      "---\n",
      "\n",
      "### **Day 2: Cultural Immersion & Relaxation**\n",
      "\n",
      "**Morning:**\n",
      "- **Breakfast:** Start your day with a hearty meal at your hotel or a local eatery.\n",
      "- **Chinatown & Little India:** Explore the vibrant cultures, temples, and street markets in these historic districts.\n",
      "\n",
      "**Afternoon:**\n",
      "- **Lunch:** Savor authentic Peranakan cuisine at Blue Ginger or another traditional restaurant.\n",
      "- **Visit Sentosa Island:** Head to Universal Studios Singapore for thrilling rides and attractions.\n",
      "\n",
      "**Evening:**\n",
      "- **Dinner:** Enjoy a seafood feast at The Crab Factory or another beachside restaurant on Sentosa.\n",
      "- **Evening at Siloso Beach:** Relax and enjoy the sunset with a refreshing cocktail.\n",
      "\n",
      "**Night:**\n",
      "- **Casino Night:** Try your luck at the Marina Bay Sands Casino or unwind at a rooftop bar.\n",
      "\n",
      "---\n",
      "\n",
      "### **Day 3: Adventure & Nature**\n",
      "\n",
      "**Morning:**\n",
      "- **Breakfast:** Have a leisurely breakfast at your hotel or a trendy café.\n",
      "- **Singapore Zoo:** Spend the morning exploring the rainforest and spotting exotic wildlife.\n",
      "\n",
      "**Afternoon:**\n",
      "- **Lunch:** Dine at The Rainforest Kidzworld for a family-friendly meal or head back to the city for a gourmet lunch.\n",
      "- **Adventure at Sentosa:** Experience the Mega Adventure Park or take a skyride for panoramic views.\n",
      "\n",
      "**Evening:**\n",
      "- **Dinner:** Enjoy a farewell dinner at a Michelin-starred restaurant like Joël Robuchon or L’Atelier de Joël Robuchon.\n",
      "- **Night Walk:** Take a leisurely stroll along the Singapore River or Clarke Quay, soaking in the city's vibrant nightlife.\n",
      "\n",
      "**Night:**\n",
      "- **Departure Preparation:** Relax at your hotel or enjoy a nightcap at the bar before your departure.\n",
      "\n",
      "---\n",
      "\n",
      "### **Budget Summary:**\n",
      "\n",
      "- **Hotel Cost:** SGD 1,500 (approximately USD 1,100) for 3 nights at a luxury hotel.\n",
      "- **Food & Dining:** SGD 800 (approximately USD 580) for meals at high-end restaurants.\n",
      "- **Attractions & Activities:** SGD 500 (approximately USD 360) for entry fees and experiences.\n",
      "- **Transportation:** SGD 200 (approximately USD 145) for taxis and private transfers.\n",
      "- **Total Estimated Budget:** SGD 2,000 (approximately USD 1,450).\n",
      "\n",
      "---\n",
      "\n",
      "### **Additional Tips:**\n",
      "\n",
      "- **Weather:** Singapore has a tropical climate; pack light clothing and stay hydrated.\n",
      "- **Transportation:** Consider purchasing a Singapore Tourist Pass for convenient travel on public transport.\n",
      "- **Local Customs:** Respect cultural norms when visiting temples or mosques; dress modestly.\n",
      "\n",
      "---\n",
      "\n",
      "This itinerary offers a mix of luxury, culture, and adventure, ensuring a memorable trip to Singapore!\n"
     ]
    }
   ],
   "source": [
    "print(output['messages'][1].content)"
   ]
  }
 ],
 "metadata": {
  "kernelspec": {
   "display_name": "agentic_base",
   "language": "python",
   "name": "python3"
  },
  "language_info": {
   "codemirror_mode": {
    "name": "ipython",
    "version": 3
   },
   "file_extension": ".py",
   "mimetype": "text/x-python",
   "name": "python",
   "nbconvert_exporter": "python",
   "pygments_lexer": "ipython3",
   "version": "3.11.11"
  }
 },
 "nbformat": 4,
 "nbformat_minor": 5
}
